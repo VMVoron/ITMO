{
  "nbformat": 4,
  "nbformat_minor": 0,
  "metadata": {
    "colab": {
      "provenance": [],
      "collapsed_sections": [
        "8wKU4pCwq558",
        "uwlgbxF9ZRqt",
        "8eUWg6x2ZOV7",
        "GJT_pOqbZJF4"
      ],
      "authorship_tag": "ABX9TyNme0n5LTxyKRmZ675CLE11",
      "include_colab_link": true
    },
    "kernelspec": {
      "name": "python3",
      "display_name": "Python 3"
    },
    "language_info": {
      "name": "python"
    }
  },
  "cells": [
    {
      "cell_type": "markdown",
      "metadata": {
        "id": "view-in-github",
        "colab_type": "text"
      },
      "source": [
        "<a href=\"https://colab.research.google.com/github/VMVoron/ITMO/blob/main/Prob_theory_1_2.ipynb\" target=\"_parent\"><img src=\"https://colab.research.google.com/assets/colab-badge.svg\" alt=\"Open In Colab\"/></a>"
      ]
    },
    {
      "cell_type": "code",
      "execution_count": null,
      "metadata": {
        "id": "ZJxtvd6nozqZ"
      },
      "outputs": [],
      "source": [
        "import numpy as np\n",
        "import matplotlib.pyplot as plt\n",
        "\n"
      ]
    },
    {
      "cell_type": "markdown",
      "source": [
        "\n",
        "\\begin{cases}\n",
        "{F}_{\\xi}(x) = c \\cdot x \\cdot \\sqrt{1-x}, &0<x \\leq 1 \\\\\n",
        "0, else\n",
        "\\end{cases}"
      ],
      "metadata": {
        "id": "Ju8PfoLapIM-"
      }
    },
    {
      "cell_type": "markdown",
      "source": [
        "а) найти коэффициент c \\\\\n",
        "б) построить функцию распределения ${F}_{\\xi}(x)$ \\\\\n",
        "в) найти математическое ожидание, дисперсию, медиану \\\\\n",
        "г) найти P($ 0 \\leq {\\xi} \\leq 0.2 $) ]\\\\\n",
        "д) построить графики функций ${F}_{\\xi}(x)$ и ${f}_{\\xi}(x)$ \\\\\n",
        "е) сгенерировать выборку, n = 1000, построить на одном чертеже гистограмму распределения и функцию плотности \\\\"
      ],
      "metadata": {
        "id": "xB5Clardp88G"
      }
    },
    {
      "cell_type": "markdown",
      "source": [
        "###  найти коэффициент c\n",
        "\\\\"
      ],
      "metadata": {
        "id": "8wKU4pCwq558"
      }
    },
    {
      "cell_type": "markdown",
      "source": [
        "\n",
        "\\begin{align*} \\int_{-\\infty}^{\\infty} f_{\\xi}(t) \\, dt = \\int_{0}^{1} c \\cdot t \\cdot \\sqrt{1-t} \\, dt = \\int c \\cdot t \\cdot \\sqrt{1-t} \\, dt  = \\\\ = c \\int t \\cdot (1-t)^{\\frac{1}{2}} \\, dt  =\n",
        "\\left| p = 1-t \\right| & = \\\\ = c \\left( \\frac{2}{5} \\cdot (1-t)^{\\frac{5}{2}} - \\frac{2}{3} \\cdot p^{\\frac{3}{2}} \\right) + \\text{const} \\\\\n",
        "= \\frac{2c}{15} \\cdot (-3t-2) \\cdot (1-t)^{\\frac{3}{2}} + \\text{const}\n",
        "\\end{align*}"
      ],
      "metadata": {
        "id": "mD8o14dxs5BZ"
      }
    },
    {
      "cell_type": "markdown",
      "source": [
        "$ \\int_{0}^{1} c \\cdot t \\cdot \\sqrt{1-t} \\, dt = 1 \\Leftrightarrow \\frac{2}{15}c(-3t-2)(1-t)^{\\frac{3}{2}} \\Bigg|_{0}^{1} = \\frac{2}{15} c (-3-2)(1-1)^{\\frac{3}{2}} - \\frac{2}{15} c(-2)(1) = \\frac{2}{15} c [(-5)\\cdot0-(-2)] = \\frac{2}{15} c (0+2) = \\frac{4}{15} c $"
      ],
      "metadata": {
        "id": "BgcV_R_TxeGw"
      }
    },
    {
      "cell_type": "markdown",
      "source": [
        "$ \\frac{4}{15} c  = 1, c = \\frac{15}{4} $"
      ],
      "metadata": {
        "id": "DHEWtChGxr1j"
      }
    },
    {
      "cell_type": "markdown",
      "source": [
        "Коэффициент с = 15/4"
      ],
      "metadata": {
        "id": "YzicCepCvRYt"
      }
    },
    {
      "cell_type": "markdown",
      "source": [
        "### Графики, функция плотности, функция распределения"
      ],
      "metadata": {
        "id": "UcDGFEQ8Zj1Q"
      }
    },
    {
      "cell_type": "code",
      "source": [
        "# Определение функции\n",
        "def f(x):\n",
        "    return (15/4)*x*(1-x)**(1/2)\n",
        "\n",
        "# Создание массива значений x от 0 до 1 с шагом 0.01\n",
        "x = np.linspace(0, 1, 100)\n",
        "\n",
        "# Вычисление значений функции для каждого значения x\n",
        "y = f(x)\n",
        "\n",
        "# Построение графика\n",
        "plt.plot(x, y)\n",
        "plt.xlabel('x')\n",
        "plt.ylabel('y')\n",
        "plt.title('График функции плотности (4/15)*x*(1-x)**(1/2)')\n",
        "plt.grid(True)\n",
        "plt.show()"
      ],
      "metadata": {
        "colab": {
          "base_uri": "https://localhost:8080/",
          "height": 524
        },
        "id": "83dQEqqLyVua",
        "outputId": "46462059-1329-433e-c7c7-cf73cb27a704"
      },
      "execution_count": null,
      "outputs": [
        {
          "output_type": "display_data",
          "data": {
            "text/plain": [
              "<Figure size 800x550 with 1 Axes>"
            ],
            "image/png": "[encoded data removed]"
          },
          "metadata": {}
        }
      ]
    },
    {
      "cell_type": "markdown",
      "source": [
        "Функция распределения  - первообразная от функции плотности"
      ],
      "metadata": {
        "id": "3zXFyf49sfZr"
      }
    },
    {
      "cell_type": "markdown",
      "source": [
        "\\begin{cases}\n",
        "{f}_{\\xi}(x) = \\frac{15}{4} \\cdot x \\cdot \\sqrt{1-x}, &0<x \\leq 1 \\\\\n",
        "0, else\n",
        "\\end{cases}"
      ],
      "metadata": {
        "id": "za8ec_TuywQ3"
      }
    },
    {
      "cell_type": "markdown",
      "source": [
        "$ \\int  \\frac{15}{4} \\cdot x \\cdot \\sqrt{1-x} \\, dx = \\frac{3\\sqrt{1-x}x^{2}}{2} = \\frac{\\sqrt{1-x}x}{2}- \\sqrt{1-x} + c = \\frac{1}{2}\\sqrt{1-x}(x-1)(3x+2)+c$"
      ],
      "metadata": {
        "id": "Gq0bO4-EIIPo"
      }
    },
    {
      "cell_type": "markdown",
      "source": [],
      "metadata": {
        "id": "pr1QJ9jnI34j"
      }
    },
    {
      "cell_type": "markdown",
      "source": [
        "\\begin{cases}\n",
        "    F_{\\xi}(x) =-\\frac{1}{2} (3x+2)(1-x)^{3/2}, & 0 < x \\leq 1 \\\\\n",
        "    0, & \\text{else}\n",
        "\\end{cases}"
      ],
      "metadata": {
        "id": "TejOaiiVzkN7"
      }
    },
    {
      "cell_type": "code",
      "source": [
        "# Определение функции\n",
        "def f(x):\n",
        "    return -1/2 * (3*x+2) * (1-x)**(3/2)\n",
        "\n",
        "# Создание массива значений x от 0 до 1 с шагом 0.01\n",
        "x = np.linspace(0, 1, 100)\n",
        "\n",
        "# Вычисление значений функции для каждого значения x\n",
        "y = f(x)\n",
        "\n",
        "# Построение графика\n",
        "plt.plot(x, y)\n",
        "plt.xlabel('x')\n",
        "plt.ylabel('y')\n",
        "plt.title('График функции распределения -1/2(-3x-2)(1-x)**(3/2)')\n",
        "plt.grid(True)\n",
        "plt.show()"
      ],
      "metadata": {
        "colab": {
          "base_uri": "https://localhost:8080/",
          "height": 524
        },
        "id": "NzuSmICIyPZT",
        "outputId": "95c65487-2e6e-4bdd-d8b1-8e785d4e4bc7"
      },
      "execution_count": null,
      "outputs": [
        {
          "output_type": "display_data",
          "data": {
            "text/plain": [
              "<Figure size 800x550 with 1 Axes>"
            ],
            "image/png": "[encoded data removed]"
          },
          "metadata": {}
        }
      ]
    },
    {
      "cell_type": "markdown",
      "source": [
        "C = +1"
      ],
      "metadata": {
        "id": "0sEUOl_CSXk-"
      }
    },
    {
      "cell_type": "code",
      "source": [
        "# Определение функции\n",
        "def f(x):\n",
        "    return -1/2 * (3*x+2) * (1-x)**(3/2) + 1\n",
        "\n",
        "# Создание массива значений x от 0 до 1 с шагом 0.01\n",
        "x = np.linspace(0, 1, 100)\n",
        "\n",
        "# Вычисление значений функции для каждого значения x\n",
        "y = f(x)\n",
        "\n",
        "# Построение графика\n",
        "plt.plot(x, y)\n",
        "plt.xlabel('x')\n",
        "plt.ylabel('y')\n",
        "plt.title('График функции распределения -1/2(-3x-2)(1-x)**(3/2)')\n",
        "plt.grid(True)\n",
        "plt.show()"
      ],
      "metadata": {
        "colab": {
          "base_uri": "https://localhost:8080/",
          "height": 524
        },
        "id": "xutfxKOjSaFZ",
        "outputId": "d1c28bd0-78df-495b-c601-fcf63d9b3131"
      },
      "execution_count": null,
      "outputs": [
        {
          "output_type": "display_data",
          "data": {
            "text/plain": [
              "<Figure size 800x550 with 1 Axes>"
            ],
            "image/png": "[encoded data removed]"
          },
          "metadata": {}
        }
      ]
    },
    {
      "cell_type": "markdown",
      "source": [
        "### Матожидание, дисперсия, свкв откл"
      ],
      "metadata": {
        "id": "uwlgbxF9ZRqt"
      }
    },
    {
      "cell_type": "markdown",
      "source": [
        "Найдем математическое ожидание из функции плотности через интеграл"
      ],
      "metadata": {
        "id": "egNow2T8nrLG"
      }
    },
    {
      "cell_type": "markdown",
      "source": [
        "\\begin{cases}\n",
        "{f}_{\\xi}(x) = \\frac{15}{4} \\cdot x \\cdot \\sqrt{1-x}, &0<x \\leq 1 \\\\\n",
        "0, else\n",
        "\\end{cases}"
      ],
      "metadata": {
        "id": "VKUUMnuHoCqW"
      }
    },
    {
      "cell_type": "markdown",
      "source": [
        "$ E(X) =  \\int_{-\\infty}^{\\infty} x f(x) \\, dx $ \\\\\n",
        "\\\n",
        "Но $ x \\in [0, 1]$ \\\\\n",
        "\\\n",
        "Поэтому $ E_{\\xi} = \\int_{0}^{1} x f(x) \\, dx = \\frac{15}{4} \\int_{0}^{1} x^{2} \\sqrt{1-x}, dx = \\left| t = 1-x; x = 1-t; dx = -dt  \\right|  = -  \\frac{15}{4} \\int_{0}^{1} (1-t)^{2} \\sqrt{t} dt =  - \\frac{15}{4}\\int_{0}^{1} (t^{1/2}-2t^{5/2}+t^{7/2}) dt  =  - \\frac{15}{4}( \\frac {2t^{3/2}}{3} - \\frac {4t^{5/2}}{5} + \\frac {2t^{7/2}}{7})  \\Bigg|_{0}^{1}  =  - \\frac{15}{4} ( 0 - \\frac {2}{3} + \\frac {4}{7} - \\frac {2}{7}) = -\\frac{15}{4}(\\frac{2}{15}- \\frac{2}{7})  = \\frac{-16}{105} \\frac{-15}{4} = \\frac{4*15}{105} = \\frac{4}{7} $\n",
        "\n"
      ],
      "metadata": {
        "id": "C8QgV74xodwn"
      }
    },
    {
      "cell_type": "markdown",
      "source": [
        "$ D_{\\xi} = E({\\xi}- E({\\xi})) ^{2} = E{\\xi}^{2}- (E{\\xi})^2 $"
      ],
      "metadata": {
        "id": "kbbPhvfO2cSY"
      }
    },
    {
      "cell_type": "markdown",
      "source": [
        "$ E_{{\\xi}^{2}} =  \\frac{15}{4} \\int_{0}^{1} x^{3} \\sqrt{1-x} =  \\left| t = 1-x; x = 1-t; dx = -dt  \\right| = \\frac{15}{4} \\int_{0}^{1} (1-t)^{3} t^{1/2} dt  $ \\\n",
        "Воспользуемся формулой $ (a-b)^{3} = a^{3}- 3a^{2}b + 3ab^{2} -b^{3} $ \\\n",
        "\n",
        "$ \\frac{15}{4} \\int_{0}^{1} (1-t)^{3} t dt  =  \\frac{15}{4} \\int_{0}^{1} [1 - 3t + 3t^{2} - t^{3} ] * t^{1/2} dt =  -\\frac{15}{4}  [\\frac{2t^{3/2}}{3} -\\frac{6t^{5/2}}{5}  + \\frac{6t^{7/2}}{7}  - \\frac{2t^{9/2}}{9} ] \\Bigg|_{0}^{1} = \\left| t = 1-x; x = 1-t; dx = -dt  \\right| =  -\\frac{15}{4}  [\\frac{2}{3} * (1-x)^{3/2} -\\frac{6}{5}* (1-x)^{5/2}  + \\frac{6}{7}* (1-x)^{7/2}  - \\frac{2}{9}* (1-x)^{9/2}] \\Bigg|_{0}^{1} = -\\frac{15}{4} * \\frac{(20-54)}{45}+ \\frac{6}{7}\n",
        " = \\frac{32}{315} * \\frac{15}{4} = \\frac{8*35}{5*63}= \\frac{24}{63} = \\frac{8}{21}$"
      ],
      "metadata": {
        "id": "5CqCPKXV3xY-"
      }
    },
    {
      "cell_type": "markdown",
      "source": [
        "Найдем дисперсию"
      ],
      "metadata": {
        "id": "b8GyQ2wI84RG"
      }
    },
    {
      "cell_type": "markdown",
      "source": [
        "$ D_{\\xi} = E({\\xi}- E({\\xi})) ^{2} = E{\\xi}^{2}- (E{\\xi})^2  = \\frac{8}{21} - {\\frac{4}{7}}^{2} = \\frac{8}{21}- \\frac{16}{49} = \\frac{(8*7)-(16*3)}{49*3} = \\frac{56-48}{147} = \\frac{8}{147} $   "
      ],
      "metadata": {
        "id": "Zp6hS2Gc27Gc"
      }
    },
    {
      "cell_type": "markdown",
      "source": [
        "Среднеквадратичное отклонение\n",
        "$s = \\sqrt{D(x)} = \\sqrt{\\frac{8}{147}} $"
      ],
      "metadata": {
        "id": "tGfQI4858Yd8"
      }
    },
    {
      "cell_type": "markdown",
      "source": [
        "### Мода"
      ],
      "metadata": {
        "id": "8eUWg6x2ZOV7"
      }
    },
    {
      "cell_type": "markdown",
      "source": [
        "Мода $ M_{o}x $ -  то возможное значение $x$, при котором функция плотности $f_{\\xi}(x) = max $"
      ],
      "metadata": {
        "id": "wi6RTASx9IJZ"
      }
    },
    {
      "cell_type": "markdown",
      "source": [
        "$f_{\\xi}(x) = \\frac{15}{4} x \\sqrt{1-x}$ \\\n",
        "$f_{\\xi}(x)$ непрерывна и дифференциируема на отрезке $ x \\in [0, 1] $\n",
        "Тогда по теореме Ролля $\\exists$ точка x такая, что $f_{\\xi}(x)' = 0 $\n"
      ],
      "metadata": {
        "id": "2Cq6MeTZ9iAN"
      }
    },
    {
      "cell_type": "markdown",
      "source": [
        "$f_{\\xi}'(x) = (\\frac{15}{4} x \\sqrt{1-x})' = \\frac{15}{4}(x \\sqrt{1-x})'$ \\"
      ],
      "metadata": {
        "id": "nbK7mkqsirZu"
      }
    },
    {
      "cell_type": "markdown",
      "source": [
        "$ (u*v)' = u'v + uv' $"
      ],
      "metadata": {
        "id": "SgrzfCDdjemp"
      }
    },
    {
      "cell_type": "markdown",
      "source": [
        "$ (x\\sqrt{1-x})' = \\sqrt{1-x} + x (\\sqrt{1-x})' = \\sqrt{1-x} - \\frac{x}{2\\sqrt{1-x}} $\n",
        "\n",
        "$ \\sqrt{1-x}' = \\frac{1}{2} (1-x)^{-1/2} * (-1) = - \\frac {1}{2 \\sqrt(1-x)}$"
      ],
      "metadata": {
        "id": "3OBhRAypkG5A"
      }
    },
    {
      "cell_type": "markdown",
      "source": [
        "$f_{\\xi}(x) = \\frac{15}{4}( \\sqrt{1-x} - \\frac {x}{2 \\sqrt{1-x}}) = \\frac{15}{4} [ \\frac{2(1-x)}{2 \\sqrt {1-x}} - \\frac{x}{2 \\sqrt{1-x}}] =  \\frac{15}{4} [\\frac{2 - 2x -x }{2 \\sqrt(1-x)}] = \\frac{15}{4} [\\frac{2-3x}{2 \\sqrt{1-x}}]  = \\frac{30-45x}{8 \\sqrt{1-x}}$"
      ],
      "metadata": {
        "id": "KBhsDCCQnESj"
      }
    },
    {
      "cell_type": "markdown",
      "source": [
        "$ f'_{\\xi}(x) = 0 \\Longleftrightarrow \\frac{30-45x}{8\\sqrt(1-x)}  = 0 $"
      ],
      "metadata": {
        "id": "vUF4F4lwpJaL"
      }
    },
    {
      "cell_type": "markdown",
      "source": [
        "Выражение вида $a/b = 0$, если  $ a=0, b \\neq 0 $"
      ],
      "metadata": {
        "id": "ZUf7d4svp8Bt"
      }
    },
    {
      "cell_type": "markdown",
      "source": [
        "\\begin{cases}\n",
        "30-45x = 0 \\\\\n",
        "x \\neq 1\n",
        "\\end{cases}"
      ],
      "metadata": {
        "id": "NaOwgOEErgJr"
      }
    },
    {
      "cell_type": "markdown",
      "source": [
        "$ x_{1} = \\frac{2}{3} $ - экстремальная точка"
      ],
      "metadata": {
        "id": "jWByB5mZrqba"
      }
    },
    {
      "cell_type": "markdown",
      "source": [
        "Найдем вторую производную и подставим значение $x_{1}$"
      ],
      "metadata": {
        "id": "F75pMZGrrEDH"
      }
    },
    {
      "cell_type": "markdown",
      "source": [
        "$f''_{\\xi} (x = x_{i}) = 8 * \\sqrt{1-2/3} * (45(-1/3)+15/2)) \\neq 0 $"
      ],
      "metadata": {
        "id": "fZCJQdzzlElf"
      }
    },
    {
      "cell_type": "markdown",
      "source": [
        "Следовательно, в точке $x_{i}$, $f_{\\xi}(x) = max $\n",
        "Поскольку $f_{\\xi}(x)$ достигает своего максимального значения  в точке $x_{1} = 2/3$, то $M_{\\xi}(x) = 2/3$"
      ],
      "metadata": {
        "id": "FaxDBizLl4ba"
      }
    },
    {
      "cell_type": "markdown",
      "source": [
        "### Медиана"
      ],
      "metadata": {
        "id": "GJT_pOqbZJF4"
      }
    },
    {
      "cell_type": "markdown",
      "source": [
        "Медианой $Me_{\\xi}$  называют то возможное значение x, при котором ордината $f(x)$ делит пополам площадь, ограниченную кривой распределения"
      ],
      "metadata": {
        "id": "U0Y5r-4Zmsha"
      }
    },
    {
      "cell_type": "markdown",
      "source": [
        "Функция распределения $F_{\\xi}(x) = 1/2$"
      ],
      "metadata": {
        "id": "TWARLnQtm7Kk"
      }
    },
    {
      "cell_type": "markdown",
      "source": [
        "\\begin{cases}\n",
        "F_{\\xi}(x) = -\\frac{1}{2} (3x+2)(1-x)^{3/2} + 1, x \\in [0, 1] \\\\\n",
        "F_{\\xi}(x) =  0, else\n",
        "\\end{cases}"
      ],
      "metadata": {
        "id": "H2hNZDPqnDji"
      }
    },
    {
      "cell_type": "markdown",
      "source": [
        "$ F_{\\xi}(x) = \\frac{1}{2} \\Leftrightarrow -\\frac{1}{2} (3x+2)(1-x)^{3/2} = \\frac{1}{2}, x \\in [0,1]\n",
        "$\n",
        "\n",
        "\n"
      ],
      "metadata": {
        "id": "MLLhUe5Un2QU"
      }
    },
    {
      "cell_type": "markdown",
      "source": [
        "$ -\\frac{1}{2} (3x+2)(1-x)^{3/2} + 1 = \\frac{1}{2}$ \\\n",
        "$ -(3x+2)(1-x)^{3/2} + 2= 1 $ \\\n",
        "$ 1 - (3x+2)(1-x)^{3/2} = 0 $ \\\n",
        "$ \\sqrt{1-x} - 3x^2-5x+2 = 0 $ \\\n",
        "$ (\\sqrt{1-x} )^2= (3x^2+5x-2)^2 $\\\n",
        "$ -9x^5+15x^4+5x^3-15x^2+3 = 0 $"
      ],
      "metadata": {
        "id": "SVyCTKCTDhb9"
      }
    },
    {
      "cell_type": "markdown",
      "source": [
        "$ f(x) = 0 $  \\\n",
        "$ f'(x) = ? $"
      ],
      "metadata": {
        "id": "onE_QKM43F7o"
      }
    },
    {
      "cell_type": "markdown",
      "source": [
        "Нет рациональных корней"
      ],
      "metadata": {
        "id": "FZp93hqypeEe"
      }
    },
    {
      "cell_type": "markdown",
      "source": [
        "Метод Newton-Rapshon"
      ],
      "metadata": {
        "id": "gPL_HCo-pPYL"
      }
    },
    {
      "cell_type": "markdown",
      "source": [
        "Итеративная схема, основаннная о предположении $x_{0}$ для значения корня.\n",
        "От изначального предположения, последовательные догадки получаются итеративно пока съема не сойдется к корню $x_{r}$ или не разойдется и тогда мы высказываем другую первоначальную догадку.\n",
        " Последовательность догадок получается из наклона функции"
      ],
      "metadata": {
        "id": "__37V9xgsYik"
      }
    },
    {
      "cell_type": "markdown",
      "source": [
        "$slope = \\frac{df(x_{n})}{dx} = \\frac{0-f(x_{n})}{x_{n+1}-x_{n}} $"
      ],
      "metadata": {
        "id": "b1LbWWfxs59j"
      }
    },
    {
      "cell_type": "markdown",
      "source": [
        "Уравнение Ньютона-Рафсона:"
      ],
      "metadata": {
        "id": "dO3I9-TdtPhU"
      }
    },
    {
      "cell_type": "markdown",
      "source": [
        "$ x_{n+1} = x_{n} - \\frac{f(x_{n})}{f'(x_{n})} $"
      ],
      "metadata": {
        "id": "iQ3HFmOktWrp"
      }
    },
    {
      "cell_type": "markdown",
      "source": [
        "Не работает, если $f'(x_{n})$ = 0"
      ],
      "metadata": {
        "id": "Pi-jjScZuDJ-"
      }
    },
    {
      "cell_type": "markdown",
      "source": [
        "$ f(x) =   1 + (3x+2)(1-x)^{3/2}  = 0$ \\"
      ],
      "metadata": {
        "id": "TG6yUzKBtkzM"
      }
    },
    {
      "cell_type": "markdown",
      "source": [
        "$f'(x_{n})$ = ?"
      ],
      "metadata": {
        "id": "mCnadOjOuAzn"
      }
    },
    {
      "cell_type": "markdown",
      "source": [],
      "metadata": {
        "id": "Z6CzuXjh3uDu"
      }
    },
    {
      "cell_type": "code",
      "source": [
        "from sympy import *\n",
        "x, y, z = symbols('x y z')"
      ],
      "metadata": {
        "id": "9uUh_ZCfpPlp"
      },
      "execution_count": null,
      "outputs": []
    },
    {
      "cell_type": "code",
      "source": [
        "import sympy as sp\n",
        "\n",
        "x = sp.symbols('x')\n",
        "f = -9*x**5+15*x**4+5*x**3-15*x**2+3\n",
        "derivative = sp.diff(f, x)"
      ],
      "metadata": {
        "id": "ZnUldk1XyFR4"
      },
      "execution_count": null,
      "outputs": []
    },
    {
      "cell_type": "code",
      "source": [
        "derivative"
      ],
      "metadata": {
        "colab": {
          "base_uri": "https://localhost:8080/",
          "height": 38
        },
        "id": "jtE2fjeMpSji",
        "outputId": "89cf434a-1b4d-46a1-b12d-7426a874bc84"
      },
      "execution_count": null,
      "outputs": [
        {
          "output_type": "execute_result",
          "data": {
            "text/plain": [
              "      4       3       2       \n",
              "- 45*x  + 60*x  + 15*x  - 30*x"
            ],
            "text/latex": "$\\displaystyle - 45 x^{4} + 60 x^{3} + 15 x^{2} - 30 x$"
          },
          "metadata": {},
          "execution_count": 107
        }
      ]
    },
    {
      "cell_type": "markdown",
      "source": [
        "$x_{n+1} = x_{n} - \\frac{-9*x^5+15*x^4+5*x^3-15*x^2+3 }{−45x^4+60x^3+15x^2−30x}$"
      ],
      "metadata": {
        "id": "8uRdPv9PuzMa"
      }
    },
    {
      "cell_type": "markdown",
      "source": [
        "$x_{n+1} = x_{n} - \\frac{-3x^{2.5}- 2x^{1/5}+3x+3}{-7.5x^{1.5}-3x^{0.5}+3} $"
      ],
      "metadata": {
        "id": "fUjSYIcvyUQL"
      }
    },
    {
      "cell_type": "code",
      "source": [
        "import numpy as np\n",
        "import matplotlib.pyplot as plt\n",
        "\n",
        "x = np.zeros((1000, 1))\n",
        "x[0] = 100  # initial guess\n",
        "\n",
        "fig, ax = plt.subplots(1, 1)\n",
        "for j in range(999):\n",
        "    # x_{n+1} = x_{n} - \\frac{3x^{2.5}- 2x^{1/5}+3x+3}{-7.5x^{1.5}-3x^{0.5}+3}$\n",
        "    x[j+1] = x[j] - (-9*x[j]**5+15*x[j]**4+5*x[j]**3-15*x[j]**2+3)/(-45*x[j]**4+60*x[j]**3+15*x[j]**2-30*x[j])\n",
        "\n",
        "    # f(x) = -9x^5 + 15x^4 + 5x^3 - 15x^2 + 3\n",
        "    func = -9*x[j]**5+15*x[j]**4+5*x[j]**3-15*x[j]**2+3\n",
        "\n",
        "    ax.plot(x[j], func, 'o', color='b')  # Plot the individual x and func values\n",
        "\n",
        "    # Termination criteria\n",
        "    if np.abs(func) < 10**-6:\n",
        "        break\n",
        "solution = x[j+1]\n",
        "plt.axvline(solution, color='red', linestyle='--', label='Solution')\n",
        "plt.gca().invert_xaxis()\n",
        "ax.set_xlabel('x')\n",
        "ax.set_ylabel('f(x)')\n",
        "plt.savefig('example1.png', dpi=300, bbox_inches='tight')\n",
        "#plt.close()\n",
        "\n",
        "print(f\"The root of the function is: {x[j+1]}\")\n",
        "print(f\"Function value at the root: {func}\")"
      ],
      "metadata": {
        "colab": {
          "base_uri": "https://localhost:8080/",
          "height": 555
        },
        "id": "crs8mo9wN19u",
        "outputId": "c4829f18-402d-4c70-b916-05efed2a2e6f"
      },
      "execution_count": null,
      "outputs": [
        {
          "output_type": "stream",
          "name": "stdout",
          "text": [
            "The root of the function is: [0.58637251]\n",
            "Function value at the root: [1.15548186e-07]\n"
          ]
        },
        {
          "output_type": "display_data",
          "data": {
            "text/plain": [
              "<Figure size 800x550 with 1 Axes>"
            ],
            "image/png": "[encoded data removed]"
          },
          "metadata": {}
        }
      ]
    },
    {
      "cell_type": "code",
      "source": [
        "def f(x):\n",
        "   f = -1/2 * (3*x+2) * (1-x)**(3/2) + 1\n",
        "   return f"
      ],
      "metadata": {
        "id": "hiU8APZjz6AH"
      },
      "execution_count": null,
      "outputs": []
    },
    {
      "cell_type": "code",
      "source": [
        "f(0.58637251)"
      ],
      "metadata": {
        "colab": {
          "base_uri": "https://localhost:8080/",
          "height": 38
        },
        "id": "Py1Bdv9x0lYq",
        "outputId": "e4ca9067-69e3-4990-dbf7-3c0122b72ede"
      },
      "execution_count": null,
      "outputs": [
        {
          "output_type": "execute_result",
          "data": {
            "text/plain": [
              "0.5000000044159144"
            ],
            "text/latex": "$\\displaystyle 0.500000004415914$"
          },
          "metadata": {},
          "execution_count": 141
        }
      ]
    },
    {
      "cell_type": "markdown",
      "source": [],
      "metadata": {
        "id": "wyT9ywwMZ2zB"
      }
    },
    {
      "cell_type": "markdown",
      "source": [
        "### Вероятность попадания"
      ],
      "metadata": {
        "id": "DEb3iraEZ45o"
      }
    },
    {
      "cell_type": "markdown",
      "source": [
        "найти P($ 0 \\leq {\\xi} \\leq 0.2 $)"
      ],
      "metadata": {
        "id": "pGhlkWYXaD9s"
      }
    },
    {
      "cell_type": "markdown",
      "source": [
        "$P(a<x<b) = F(b) - F(a) $ \\\n"
      ],
      "metadata": {
        "id": "kKogDpqHaIVL"
      }
    },
    {
      "cell_type": "markdown",
      "source": [
        "$F_{\\xi}(x) = -\\frac{1}{2} (3x+2)  (1-x)^{3/2} + 1 $\n"
      ],
      "metadata": {
        "id": "qXvIjb9DadvX"
      }
    },
    {
      "cell_type": "markdown",
      "source": [
        "$P(0<x<0.2) = F(0.2) - F(0) $ \\"
      ],
      "metadata": {
        "id": "pWsOmjZCaxFn"
      }
    },
    {
      "cell_type": "code",
      "source": [
        "def p(x):\n",
        "  p = -1/2 * (3*x+2) * (1-x)**(3/2) + 1\n",
        "  return p"
      ],
      "metadata": {
        "id": "vd5f-zajZ89v"
      },
      "execution_count": null,
      "outputs": []
    },
    {
      "cell_type": "code",
      "source": [
        "p(0.2)-p(0)"
      ],
      "metadata": {
        "colab": {
          "base_uri": "https://localhost:8080/",
          "height": 38
        },
        "id": "CpBrudR8a8ZO",
        "outputId": "be38bfd3-d83f-4670-e4b1-37af6a7ac53c"
      },
      "execution_count": null,
      "outputs": [
        {
          "output_type": "execute_result",
          "data": {
            "text/plain": [
              "0.06979572136008727"
            ],
            "text/latex": "$\\displaystyle 0.0697957213600873$"
          },
          "metadata": {},
          "execution_count": 143
        }
      ]
    },
    {
      "cell_type": "markdown",
      "source": [
        "### Генерация выборки"
      ],
      "metadata": {
        "id": "dWba382Gbhez"
      }
    },
    {
      "cell_type": "code",
      "source": [
        "import scipy.stats as sps"
      ],
      "metadata": {
        "id": "d7urcfwwby2R"
      },
      "execution_count": null,
      "outputs": []
    },
    {
      "cell_type": "code",
      "source": [
        "class custom_dist(sps.rv_continuous):\n",
        "    def _pdf(self, x):\n",
        "        return -1/2 * (3*x+2) * (1-x)**(3/2) + 1\n",
        "distr = custom_dist(a=0, b=1, name='custom_distribution')\n",
        "print(\"Выборка из 10 элементов: \", distr.rvs(size=1000))"
      ],
      "metadata": {
        "colab": {
          "base_uri": "https://localhost:8080/"
        },
        "id": "_-WHw5jnbkQV",
        "outputId": "e2b5268b-2954-4430-c969-09ce9e6afa1a"
      },
      "execution_count": null,
      "outputs": [
        {
          "output_type": "stream",
          "name": "stdout",
          "text": [
            "Выборка из 10 элементов:  [0.77817497 0.71517422 1.         0.96471513 0.39648986 0.22482394\n",
            " 1.         1.         1.         0.73530271 0.96976027 1.\n",
            " 1.         1.         0.43322849 0.50156645 1.         1.\n",
            " 1.         0.36335382 0.34941131 1.         0.62858054 0.55440739\n",
            " 1.         0.75479734 0.56373811 1.         1.         0.69359809\n",
            " 1.         1.         1.         1.         0.97666063 1.\n",
            " 0.74842188 1.         1.         0.91091242 0.54688387 0.84087773\n",
            " 0.86859851 1.         0.44711145 1.         1.         0.46760866\n",
            " 1.         1.         1.         0.75557504 1.         1.\n",
            " 0.93036742 0.99947548 0.52569065 1.         0.94267796 1.\n",
            " 0.6256399  1.         1.         1.         0.51206939 1.\n",
            " 1.         0.93942446 0.79858524 0.51355555 1.         1.\n",
            " 1.         0.91783156 1.         1.         1.         1.\n",
            " 1.         1.         1.         0.60573556 1.         1.\n",
            " 1.         0.58240809 0.66371889 1.         0.55576765 0.31922341\n",
            " 1.         0.61897218 1.         1.         0.95641495 1.\n",
            " 0.416628   1.         1.         1.         0.93003992 0.97983908\n",
            " 1.         0.9601272  0.55854647 1.         1.         1.\n",
            " 0.7130975  1.         1.         1.         0.76795519 0.76249485\n",
            " 0.81080529 1.         0.8238095  0.72531252 1.         0.87663048\n",
            " 0.91272707 0.86578577 1.         0.59303154 0.54655691 1.\n",
            " 0.96845376 0.94875084 0.84935671 0.91814372 1.         1.\n",
            " 0.67660628 1.         1.         0.46083072 1.         0.86438029\n",
            " 0.99398277 0.45240331 1.         0.83472699 0.11515099 1.\n",
            " 1.         1.         0.79299846 1.         1.         1.\n",
            " 0.64707062 0.89587057 0.83316357 1.         0.68357308 1.\n",
            " 1.         1.         0.84402984 1.         0.80600089 1.\n",
            " 1.         1.         1.         0.93738677 1.         1.\n",
            " 1.         0.43812245 1.         0.91805925 1.         1.\n",
            " 1.         1.         0.67241179 1.         0.789911   0.78682845\n",
            " 1.         0.59499677 1.         1.         1.         0.925801\n",
            " 1.         1.         0.5853496  0.5478506  1.         1.\n",
            " 1.         0.90339201 1.         0.99353948 0.44061678 0.53735541\n",
            " 1.         0.89324223 1.         0.83530634 0.69822697 1.\n",
            " 0.35942223 1.         0.45159656 1.         1.         0.72024315\n",
            " 1.         1.         1.         1.         0.98367366 0.69039126\n",
            " 1.         1.         0.53093578 0.32987324 0.83836484 0.66271744\n",
            " 0.74451842 0.81329057 1.         1.         1.         0.92277935\n",
            " 1.         0.91155414 1.         1.         1.         1.\n",
            " 0.79246509 0.93752839 1.         0.85562756 1.         0.62210457\n",
            " 1.         1.         0.98616797 1.         0.74403646 0.62044632\n",
            " 0.64171613 0.94876469 0.5759336  1.         1.         1.\n",
            " 0.77012021 1.         0.6537369  1.         0.31721438 0.89644984\n",
            " 1.         0.64994748 0.88895643 1.         0.83445915 0.91007873\n",
            " 1.         0.90691677 1.         0.77379795 1.         1.\n",
            " 1.         1.         0.83775459 0.90272434 1.         0.8379511\n",
            " 1.         0.76060001 1.         1.         1.         1.\n",
            " 0.65027961 1.         0.69871734 1.         1.         1.\n",
            " 0.91631174 1.         1.         1.         0.77921009 0.91980536\n",
            " 0.73756965 1.         1.         1.         1.         1.\n",
            " 1.         1.         0.87066305 0.9567802  0.18591613 0.40716808\n",
            " 0.89415969 0.90130263 1.         1.         1.         1.\n",
            " 1.         0.78700508 1.         1.         1.         0.74075008\n",
            " 0.81552492 1.         1.         1.         1.         1.\n",
            " 1.         0.8488357  0.90965836 0.85189215 0.62315251 1.\n",
            " 1.         1.         0.88227983 1.         1.         0.59521789\n",
            " 1.         0.53658371 1.         0.78088115 0.77518443 0.69116289\n",
            " 0.88682387 1.         1.         1.         0.93070469 1.\n",
            " 0.78040671 1.         1.         1.         1.         1.\n",
            " 1.         0.81733513 0.86707378 1.         1.         0.5057541\n",
            " 1.         1.         0.69431714 1.         1.         0.80118665\n",
            " 0.96056712 0.04501778 0.36714826 1.         1.         1.\n",
            " 1.         0.93140296 1.         0.73306189 1.         0.92204305\n",
            " 1.         0.47015918 0.64720632 1.         0.98351408 0.85798761\n",
            " 0.99405275 1.         0.88134331 1.         0.71199527 1.\n",
            " 0.72329779 1.         0.71103271 0.67807437 1.         1.\n",
            " 0.89318875 1.         0.7354351  0.81685622 1.         0.94167679\n",
            " 1.         1.         1.         1.         0.97500831 1.\n",
            " 0.60880228 0.82112932 0.96022864 1.         1.         1.\n",
            " 1.         0.4014451  1.         1.         1.         1.\n",
            " 0.8429131  1.         0.49462246 1.         0.79972695 1.\n",
            " 1.         0.70571775 0.93844477 1.         0.7675976  1.\n",
            " 0.74734712 1.         0.68021454 0.82487434 0.81730994 1.\n",
            " 1.         1.         0.9706062  1.         1.         1.\n",
            " 0.39569412 0.87036794 0.92983865 1.         0.83546828 1.\n",
            " 0.55347035 1.         1.         1.         1.         0.43398978\n",
            " 0.98799026 0.56823395 0.51555142 0.63032966 0.63682904 0.98911014\n",
            " 1.         1.         0.84771331 1.         0.66500404 0.38400788\n",
            " 1.         1.         1.         1.         1.         0.83039076\n",
            " 0.89290562 0.83219212 1.         0.99455456 1.         1.\n",
            " 0.64002305 0.69276869 1.         0.70449543 1.         1.\n",
            " 0.53336105 0.92355143 1.         0.6295039  1.         1.\n",
            " 0.7778989  0.77440286 0.84196373 1.         1.         1.\n",
            " 1.         1.         1.         0.71480494 0.86778348 1.\n",
            " 1.         0.92777092 0.34803107 1.         1.         1.\n",
            " 0.46297145 1.         1.         0.45330733 0.8580242  0.58405714\n",
            " 1.         0.24287567 1.         0.63914606 0.99274699 0.79814191\n",
            " 0.97387042 1.         0.48705903 1.         0.94000313 1.\n",
            " 1.         0.904465   1.         0.69267868 0.90971526 1.\n",
            " 0.87979327 1.         1.         0.83993648 1.         1.\n",
            " 1.         1.         1.         0.92434326 0.93376773 0.50695737\n",
            " 0.38672927 1.         0.82031173 0.96444574 1.         1.\n",
            " 0.76011773 1.         1.         0.82021429 0.46732476 1.\n",
            " 1.         0.64683595 1.         0.81367862 1.         0.82876014\n",
            " 1.         0.95651616 1.         1.         1.         1.\n",
            " 0.66753796 1.         1.         0.37193619 0.85428113 0.69201566\n",
            " 0.35867886 1.         0.8164169  0.49410817 1.         1.\n",
            " 1.         0.6412384  1.         1.         1.         0.88886359\n",
            " 0.79824464 1.         0.54335022 1.         0.90654597 1.\n",
            " 1.         0.93083602 1.         0.56881914 1.         0.84529807\n",
            " 0.44409929 1.         0.98322675 1.         0.68563718 0.86890137\n",
            " 1.         1.         0.64852283 1.         1.         1.\n",
            " 1.         1.         0.83531542 1.         1.         1.\n",
            " 0.82188896 1.         1.         0.49582735 0.97003058 1.\n",
            " 1.         1.         0.85746803 1.         1.         1.\n",
            " 1.         0.56680784 0.5649566  0.81838406 0.93093808 0.99826698\n",
            " 0.83662176 0.50358617 0.73281004 0.75879579 0.32016851 1.\n",
            " 1.         1.         1.         1.         1.         1.\n",
            " 1.         1.         0.28507383 0.57416357 0.48740026 1.\n",
            " 1.         0.74926457 0.90473496 0.71175978 1.         1.\n",
            " 1.         0.74875449 1.         1.         1.         1.\n",
            " 1.         1.         0.71481843 1.         0.89351044 0.7657023\n",
            " 0.97008523 1.         0.89605156 1.         0.88061492 1.\n",
            " 1.         0.31384926 0.84986519 1.         0.75640197 0.98044022\n",
            " 1.         0.93388863 1.         0.78644841 0.63047452 0.96140693\n",
            " 1.         1.         0.67676211 0.63806091 1.         0.91068703\n",
            " 1.         1.         1.         0.79998384 0.79743752 0.72184888\n",
            " 1.         1.         0.72590126 1.         1.         0.74188659\n",
            " 0.69959558 0.66797328 1.         1.         0.98026053 0.70125271\n",
            " 0.54377415 1.         0.41320879 0.91207028 0.91974557 0.81774936\n",
            " 0.9263025  1.         1.         1.         1.         0.67775496\n",
            " 1.         0.69411766 0.8308403  0.99374784 0.81508148 0.43215659\n",
            " 1.         0.98555151 0.84544559 0.62119705 1.         0.83601185\n",
            " 0.78749901 1.         0.63982812 1.         1.         0.61856541\n",
            " 1.         1.         0.80765815 1.         1.         1.\n",
            " 0.48388254 0.67335298 0.72563497 0.92338299 1.         1.\n",
            " 1.         1.         1.         1.         0.94791585 1.\n",
            " 1.         1.         1.         1.         0.53856266 0.94138483\n",
            " 1.         0.96400778 0.65457109 1.         0.99823243 0.62472548\n",
            " 0.44650012 0.55318873 0.42849424 1.         1.         1.\n",
            " 1.         0.77049905 1.         1.         1.         1.\n",
            " 1.         0.98043406 0.66172292 1.         1.         1.\n",
            " 0.91641986 0.72043194 0.73543487 0.60697834 0.05424738 0.80549937\n",
            " 0.97621581 0.66408921 1.         1.         0.80979327 1.\n",
            " 0.93879533 0.77460615 1.         1.         1.         1.\n",
            " 0.53873595 0.90498991 1.         1.         1.         1.\n",
            " 1.         1.         1.         0.8222782  0.98417262 0.46491953\n",
            " 1.         0.71110629 0.79547229 1.         0.53424317 0.34585695\n",
            " 0.69871473 1.         0.68341484 0.75886899 0.50501093 1.\n",
            " 1.         1.         0.70853992 1.         0.34486878 1.\n",
            " 1.         0.75101601 1.         0.49503602 0.48230371 0.81673065\n",
            " 1.         0.86131657 0.96288534 1.         1.         1.\n",
            " 0.51650473 1.         0.79426519 1.         1.         0.90216101\n",
            " 1.         0.85027655 1.         0.36272382 0.98556064 1.\n",
            " 1.         1.         1.         1.         1.         1.\n",
            " 0.67799275 0.68102737 0.64621862 1.         1.         0.38291117\n",
            " 0.95103939 1.         1.         1.         0.4600971  0.77059643\n",
            " 0.78890888 1.         0.34434382 0.89731551 1.         0.94744849\n",
            " 1.         1.         1.         0.63149011 0.45702692 1.\n",
            " 0.87486339 1.         0.92025172 1.         1.         1.\n",
            " 1.         0.50055669 1.         0.76775641 1.         1.\n",
            " 1.         0.45566781 0.94702479 0.90793272 1.         1.\n",
            " 1.         1.         0.57204522 0.67441025 0.64600192 1.\n",
            " 1.         0.98608624 1.         0.81825261 1.         0.4262282\n",
            " 1.         0.82918725 0.80537321 1.         0.94319228 1.\n",
            " 1.         1.         0.71544065 0.47990362 0.70318757 0.8337786\n",
            " 0.72885435 0.93992643 0.60591853 0.71673318 0.77929934 0.82094799\n",
            " 0.86776633 1.         0.77881072 1.         0.59486216 0.61607615\n",
            " 0.76537531 1.         1.         1.         1.         0.1693907\n",
            " 0.87349517 0.71300059 1.         0.66460981 1.         0.54578454\n",
            " 0.46483696 0.34361792 0.7083795  1.         1.         1.\n",
            " 1.         0.93133129 0.65724717 0.97270198 0.92267286 0.27892329\n",
            " 0.91909293 0.4902002  1.         1.         0.97727641 1.\n",
            " 1.         0.46217454 1.         0.43049658 1.         0.72003186\n",
            " 1.         1.         0.99065968 1.         1.         0.83262095\n",
            " 0.38557631 1.         0.68377001 0.91329028 0.44651171 1.\n",
            " 1.         1.         0.69407859 0.40900819]\n"
          ]
        }
      ]
    },
    {
      "cell_type": "code",
      "source": [
        "plt.hist(distr.rvs(size=1000))"
      ],
      "metadata": {
        "colab": {
          "base_uri": "https://localhost:8080/",
          "height": 576
        },
        "id": "ZvF-s6_Uceq_",
        "outputId": "5cb4eb68-5854-4fd0-80c5-4c6bdda47c0c"
      },
      "execution_count": null,
      "outputs": [
        {
          "output_type": "execute_result",
          "data": {
            "text/plain": [
              "(array([  2.,   6.,  10.,  19.,  28.,  38.,  71.,  65.,  83., 678.]),\n",
              " array([0.03692843, 0.13323558, 0.22954274, 0.3258499 , 0.42215706,\n",
              "        0.51846421, 0.61477137, 0.71107853, 0.80738569, 0.90369284,\n",
              "        1.        ]),\n",
              " <BarContainer object of 10 artists>)"
            ]
          },
          "metadata": {},
          "execution_count": 181
        },
        {
          "output_type": "display_data",
          "data": {
            "text/plain": [
              "<Figure size 800x550 with 1 Axes>"
            ],
            "image/png": "[encoded data removed]"
          },
          "metadata": {}
        }
      ]
    },
    {
      "cell_type": "code",
      "source": [
        "# Определение функции\n",
        "def f(x):\n",
        "    return (15/4)*x*(1-x)**(1/2)\n",
        "\n",
        "# Создание массива значений x от 0 до 1 с шагом 0.01\n",
        "x = np.linspace(0, 1, 100)\n",
        "\n",
        "# Вычисление значений функции для каждого значения x\n",
        "y = f(x)\n",
        "\n",
        "# Построение графика\n",
        "plt.plot(x, y)\n",
        "plt.xlabel('x')\n",
        "plt.ylabel('y')\n",
        "plt.title('График функции плотности (15/4)*x*(1-x)**(1/2)')\n",
        "plt.grid(True)\n",
        "plt.show()"
      ],
      "metadata": {
        "colab": {
          "base_uri": "https://localhost:8080/",
          "height": 524
        },
        "id": "aXRONr_WdUSr",
        "outputId": "b1368c22-0f43-49e0-dc9f-afe19fd339af"
      },
      "execution_count": null,
      "outputs": [
        {
          "output_type": "display_data",
          "data": {
            "text/plain": [
              "<Figure size 800x550 with 1 Axes>"
            ],
            "image/png": "[encoded data removed]"
          },
          "metadata": {}
        }
      ]
    },
    {
      "cell_type": "code",
      "source": [
        "import numpy as np\n",
        "import matplotlib.pyplot as plt\n",
        "import scipy.stats as sps\n",
        "\n",
        "class custom_dist(sps.rv_continuous):\n",
        "    def _pdf(self, x):\n",
        "        return -1/2 * (3*x+2) * (1-x)**(3/2) + 1\n",
        "\n",
        "# Создаем экземпляр класса custom_dist\n",
        "distr = custom_dist(a=0, b=1, name='custom_distribution')\n",
        "\n",
        "# Выборка из распределения\n",
        "sample = distr.rvs(size=1000)\n",
        "\n",
        "# Гистограмма распределения\n",
        "plt.hist(sample, density=True, bins=30, alpha=0.5, label='Гистограмма')\n",
        "\n",
        "# Определение функции плотности\n",
        "def f(x):\n",
        "    return (15/4)*x*(1-x)**(1/2)\n",
        "\n",
        "# Создание массива значений x от 0 до 1 с шагом 0.01\n",
        "x = np.linspace(0, 1, 100)\n",
        "\n",
        "# Вычисление значений функции плотности для каждого значения x\n",
        "y = f(x)\n",
        "\n",
        "# Построение графика функции плотности\n",
        "plt.plot(x, y, color='red', label='Функция плотности')\n",
        "\n",
        "# Оформление графика\n",
        "plt.xlabel('x')\n",
        "plt.ylabel('Количество')\n",
        "plt.title('Гистограмма распределения и функция плотности')\n",
        "plt.legend()\n",
        "plt.grid(True)\n",
        "plt.show()"
      ],
      "metadata": {
        "colab": {
          "base_uri": "https://localhost:8080/",
          "height": 524
        },
        "id": "Q3b2VcORebYY",
        "outputId": "71327148-817f-4431-d5ec-c7cbdfa1c515"
      },
      "execution_count": null,
      "outputs": [
        {
          "output_type": "display_data",
          "data": {
            "text/plain": [
              "<Figure size 800x550 with 1 Axes>"
            ],
            "image/png": "[encoded data removed]"
          },
          "metadata": {}
        }
      ]
    }
  ]
}