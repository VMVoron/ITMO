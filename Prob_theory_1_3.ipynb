{
  "nbformat": 4,
  "nbformat_minor": 0,
  "metadata": {
    "colab": {
      "provenance": [],
      "authorship_tag": "ABX9TyPrz7NOqjaKuJCoE3ts6Yjk",
      "include_colab_link": true
    },
    "kernelspec": {
      "name": "python3",
      "display_name": "Python 3"
    },
    "language_info": {
      "name": "python"
    }
  },
  "cells": [
    {
      "cell_type": "markdown",
      "metadata": {
        "id": "view-in-github",
        "colab_type": "text"
      },
      "source": [
        "<a href=\"https://colab.research.google.com/github/VMVoron/ITMO/blob/main/Prob_theory_1_3.ipynb\" target=\"_parent\"><img src=\"https://colab.research.google.com/assets/colab-badge.svg\" alt=\"Open In Colab\"/></a>"
      ]
    },
    {
      "cell_type": "markdown",
      "source": [
        "### Задача 1.  "
      ],
      "metadata": {
        "id": "_s4Sv_B5hkIv"
      }
    },
    {
      "cell_type": "markdown",
      "source": [
        "В пачке 6 вопросов. Студент знает ответы на 4 вопроса. Наудачу взяты 3 вопроса. Найти закон распределения числа вопросов среди отобранных,ответы на которые студент знает, и его основные характеристики. Какова вероятность сдать экзамен, если для успеха нужно ответить верно на 2 вопроса из трех"
      ],
      "metadata": {
        "id": "edtxMqkgoghz"
      }
    },
    {
      "cell_type": "markdown",
      "source": [
        "\\begin{array}{c|c|c|c|c|c}\\xi & 1 & 2 & 3& 4 & 5 \\\\\\hline\\mathsf P_{1111} & 4/6 & 3/5 & 2/4 & 1/3 & 0/2\\end{array}"
      ],
      "metadata": {
        "id": "3IjMksBDhmCC"
      }
    },
    {
      "cell_type": "markdown",
      "source": [
        "Формула для закона распределения случайной величины X, где X обозначает количество вопросов, на которые студент знает ответы, среди отобранных наугад из пачки, может быть записана следующим образом:\n",
        "\n",
        "$P(X = b) = \\prod_{0}^{с} \\frac {b-c}{a-c} $\n",
        "\n",
        "где a - общее количество вопросов в пачке, b - количество вопросов, на которые студент знает ответы\n",
        "\n",
        "где n! обозначает факториал числа n.\n",
        "\n",
        "Таким образом, формула выше представляет вероятность P(X = b), что студент знает ответы на b вопросов, среди отобранных наугад из пачки, в зависимости от общего количества вопросов (a) и количества вопросов, на которые студент знает ответы (b)."
      ],
      "metadata": {
        "id": "KGpaOtVLmBrK"
      }
    },
    {
      "cell_type": "code",
      "source": [
        "def distribution(a, b, c):\n",
        "    p = 1\n",
        "    e = 0\n",
        "    e_xi2 = 0\n",
        "\n",
        "    for i in range(c):\n",
        "        t = (b - i) / (a - i)\n",
        "        p *= t\n",
        "        e += (i + 1) * p\n",
        "        e_xi2 += ((i + 1)**2) * t\n",
        "        #print((i+1)**2, e_xi2)\n",
        "\n",
        "    e2_xi = e**2\n",
        "    variance = e_xi2 - e2_xi\n",
        "    std = variance**0.5\n",
        "\n",
        "    print('Математическое ожидание E_xi:', round(e, 3))\n",
        "    print('Математическое ожидание квадрата E_xi2:', round(e_xi2, 3))\n",
        "    print('Квадрат математического ожидания E2_xi:', round(e2_xi, 3))\n",
        "    print('Дисперсия:', round(variance, 3))\n",
        "    print('Отклонение', round(std, 3))\n",
        "\n",
        "    return p\n",
        "\n",
        "a = 6  # общее количество вопросов в пачке\n",
        "b = 4  # количество вопросов, на которые студент знает ответы\n",
        "c = 3\n",
        "\n",
        "result = round(distribution(a, b, c), 3)\n",
        "print(f\"Вероятность того, что студент знает ответы на {b} вопросов, составляет: {result}\")"
      ],
      "metadata": {
        "colab": {
          "base_uri": "https://localhost:8080/"
        },
        "id": "CVbZx8lbJtTx",
        "outputId": "fad41844-23b6-484d-955a-dc6f989daef9"
      },
      "execution_count": null,
      "outputs": [
        {
          "output_type": "stream",
          "name": "stdout",
          "text": [
            "Математическое ожидание E_xi: 2.067\n",
            "Математическое ожидание квадрата E_xi2: 7.567\n",
            "Квадрат математического ожидания E2_xi: 4.271\n",
            "Дисперсия: 3.296\n",
            "Отклонение 1.815\n",
            "Вероятность того, что студент знает ответы на 4 вопросов, составляет: 0.2\n"
          ]
        }
      ]
    },
    {
      "cell_type": "markdown",
      "source": [
        "Вероятность сдать экзамен - правильно ответить на 2 вопроа из 3 как минимум"
      ],
      "metadata": {
        "id": "048qPDZhFOiF"
      }
    },
    {
      "cell_type": "markdown",
      "source": [
        "\\[\n",
        "\\begin{array}{|c|c|c|c}\n",
        "\\hline\n",
        "\\xi         & 1 & 2 & 3 &  \\\\\n",
        "\\hline\n",
        "P_{111}    & \\frac{4}{6} & \\frac{3}{5} & \\frac{2}{4} &  \\\\\n",
        "\\hline\n",
        "P_{110}    & \\frac{4}{6} & \\frac{3}{5} & \\frac{2}{4} &  \\\\\n",
        "\\hline\n",
        "P_{101}    & \\frac{4}{6} & \\frac{2}{5}  & \\frac{3}{4}  & \\\\\n",
        "\\hline\n",
        "P_{011}    & \\frac{2}{6}  & \\frac{4}{5} & \\frac{3}{4}  &  \\\\\n",
        "\\hline\n",
        "\\end{array}\n",
        "\\]"
      ],
      "metadata": {
        "id": "OQTBahJWNVkM"
      }
    },
    {
      "cell_type": "markdown",
      "source": [],
      "metadata": {
        "id": "US9TKWWvM_IK"
      }
    },
    {
      "cell_type": "code",
      "source": [
        "p_111 = 4/6*3/5*2/4\n",
        "print(p_111)"
      ],
      "metadata": {
        "colab": {
          "base_uri": "https://localhost:8080/"
        },
        "id": "wqNtJjGEKXyu",
        "outputId": "1fa57036-5521-4d36-e245-273cad588683"
      },
      "execution_count": null,
      "outputs": [
        {
          "output_type": "stream",
          "name": "stdout",
          "text": [
            "0.2\n"
          ]
        }
      ]
    },
    {
      "cell_type": "code",
      "source": [
        "p_110 = 4/6*3/5*2/4\n",
        "print(p_110)"
      ],
      "metadata": {
        "colab": {
          "base_uri": "https://localhost:8080/"
        },
        "id": "AE8z4W1SQVG-",
        "outputId": "77865d3c-a6d8-496a-94c3-b8bdac5d762d"
      },
      "execution_count": null,
      "outputs": [
        {
          "output_type": "stream",
          "name": "stdout",
          "text": [
            "0.2\n"
          ]
        }
      ]
    },
    {
      "cell_type": "code",
      "source": [
        "p_101 = 4/6*2/5*3/4\n",
        "print(p_101)"
      ],
      "metadata": {
        "colab": {
          "base_uri": "https://localhost:8080/"
        },
        "id": "1ZgLe-rfQZjU",
        "outputId": "e57cd628-ce86-4093-e782-36adf3a01975"
      },
      "execution_count": null,
      "outputs": [
        {
          "output_type": "stream",
          "name": "stdout",
          "text": [
            "0.2\n"
          ]
        }
      ]
    },
    {
      "cell_type": "code",
      "source": [
        "p_011 = 2/6*4/5*3/4\n",
        "print(p_011)"
      ],
      "metadata": {
        "colab": {
          "base_uri": "https://localhost:8080/"
        },
        "id": "HYy3E8saQmr9",
        "outputId": "8b7894f5-7643-4672-dab7-a5f3e78d2f3f"
      },
      "execution_count": null,
      "outputs": [
        {
          "output_type": "stream",
          "name": "stdout",
          "text": [
            "0.2\n"
          ]
        }
      ]
    },
    {
      "cell_type": "code",
      "source": [
        "P = p_111  + p_110 + p_101 + p_011\n",
        "print('Вероятность сдать экзамен', P)"
      ],
      "metadata": {
        "colab": {
          "base_uri": "https://localhost:8080/"
        },
        "id": "X1KUunQYQ3N5",
        "outputId": "a49b3be9-b099-4097-ad0a-0617ae519234"
      },
      "execution_count": null,
      "outputs": [
        {
          "output_type": "stream",
          "name": "stdout",
          "text": [
            "Вероятность сдать экзамен 0.8\n"
          ]
        }
      ]
    },
    {
      "cell_type": "markdown",
      "source": [
        "### Задача 2"
      ],
      "metadata": {
        "id": "_ppcxenAojGj"
      }
    },
    {
      "cell_type": "markdown",
      "source": [
        " Производится взвешивание некоторого вещества без систематических ошибок. Случайные ошибки взвешивания подчинены нормальному закону с параметром  σ = 20 г. Найти вероятность того, что взвешивание будет произведено с ошибкой, не превосходящей по модулю 10 г."
      ],
      "metadata": {
        "id": "lD9OOIv8ouam"
      }
    },
    {
      "cell_type": "markdown",
      "source": [
        "$f_{\\xi}(x) = \\frac{1}{{\\sigma \\sqrt{2\\pi}}} \\cdot e^{\\left(\\frac{{-(x - \\mu)^2}}{{2\\sigma^2}}\\right)} $"
      ],
      "metadata": {
        "id": "hcQnCB09dlUg"
      }
    },
    {
      "cell_type": "markdown",
      "source": [
        "- Так как случайные ошибки подчинены нормальному закону, можно принять, что µ = 0 (так как нет систематических ошибок).\n",
        "\n",
        "- σ - среднеквадратичное отклонение случайных ошибок взвешивания = 20"
      ],
      "metadata": {
        "id": "TLJ2jt-Gmd5s"
      }
    },
    {
      "cell_type": "markdown",
      "source": [
        "$f_{\\xi}(x) = \\frac{1}{{20 \\sqrt{2\\pi}}} \\cdot e^{\\frac{-1}{2}\\left(\\frac{{x^2}}{{20^2}}\\right)} $"
      ],
      "metadata": {
        "id": "YfaRrdyAej6Z"
      }
    },
    {
      "cell_type": "code",
      "source": [],
      "metadata": {
        "id": "bwoRaIe4owe5"
      },
      "execution_count": null,
      "outputs": []
    },
    {
      "cell_type": "markdown",
      "source": [
        "$ F_{\\xi}(x) = \\int_{-\\infty}^{\\infty} f_{\\xi}(x)dx = \\int_{-\\infty}^{\\infty} \\frac{1}{20 \\sqrt{2 \\pi}}(e)^{\\frac{-1}{2}* \\frac{x^2}{20^2}}dx = \\frac{1}{20 \\sqrt{2 \\pi}} \\int_{-\\infty}^{\\infty}(e)^{\\frac{-1}{2}* \\frac{x^2}{20^2}}dx = \\frac{1}{1600 \\sqrt{2 \\pi}} e^{\\frac{-x^2}{800}}\\frac{x^3}{3}+c$"
      ],
      "metadata": {
        "id": "7lBOUO-Nl2eZ"
      }
    },
    {
      "cell_type": "markdown",
      "source": [
        "$P(-10<x<10)= F(10) - F(-10) $"
      ],
      "metadata": {
        "id": "fdHAjjFZnvkE"
      }
    },
    {
      "cell_type": "code",
      "source": [
        "import math\n"
      ],
      "metadata": {
        "id": "De-8thp8k-gW"
      },
      "execution_count": null,
      "outputs": []
    },
    {
      "cell_type": "code",
      "source": [
        "def f(x):\n",
        "  f = 1/(1600*math.sqrt(2*math.pi))* math.e**(-x**2/800) * (x**3)\n",
        "  return f"
      ],
      "metadata": {
        "id": "WM4mUV2Pk_87"
      },
      "execution_count": null,
      "outputs": []
    },
    {
      "cell_type": "markdown",
      "source": [
        "Формула нормального распределения имеет следующий вид:\n",
        "\n",
        "P(a ≤ X ≤ b) = Ф((b - µ) / σ) - Ф((a - µ) / σ),\n",
        "\n",
        "где:\n",
        "\n",
        "- P(a ≤ X ≤ b) - вероятность того, что случайная величина X будет находиться в интервале от a до b,\n",
        "\n",
        "- Ф(z) - функция распределения стандартного нормального распределения (со средним значением µ = 0 и стандартным отклонением σ = 1),\n",
        "\n",
        "- µ - среднее значение случайных ошибок взвешивания,\n",
        "\n",
        "- σ - среднеквадратичное отклонение случайных ошибок взвешивания.\n",
        "\n",
        "В данной задаче, среднеквадратичное отклонение σ = 20 грамм.\n",
        "\n",
        "Так как случайные ошибки подчинены нормальному закону, можно принять, что µ = 0 (так как нет систематических ошибок)."
      ],
      "metadata": {
        "id": "J0ATA91peSYS"
      }
    },
    {
      "cell_type": "markdown",
      "source": [
        "\n",
        "\n",
        "Для нахождения вероятности того, что ошибка не превосходит по модулю 10 грамм, необходимо вычислить вероятность P(-10 ≤ X ≤ 10).\n",
        "\n",
        "Теперь рассчитаем эту вероятность с использованием формулы нормального распределения:\n",
        "\n",
        "z1 = (-10 - 0) / 20 = -0.5\n",
        "\n",
        "z2 = (10 - 0) / 20 = 0.5\n",
        "\n",
        "P(-10 ≤ X ≤ 10) = Ф(0.5) - Ф(-0.5)\n",
        "\n",
        "Используя таблицу значений функции распределения стандартного нормального распределения или калькулятор, мы можем найти значения Ф(0.5) и Ф(-0.5) и вычислить итоговую вероятность."
      ],
      "metadata": {
        "id": "6zCO6UDbahVs"
      }
    },
    {
      "cell_type": "code",
      "source": [
        "import scipy.stats as stats\n",
        "\n",
        "def calculate_probability(mean, std_dev, a, b):\n",
        "    z1 = (a - mean) / std_dev\n",
        "    z2 = (b - mean) / std_dev\n",
        "    p = stats.norm.cdf(z2) - stats.norm.cdf(z1)\n",
        "    return p\n",
        "\n",
        "mean = 0\n",
        "std_dev = 20\n",
        "a = -10\n",
        "b = 10\n",
        "\n",
        "probability = calculate_probability(mean, std_dev, a, b)\n",
        "\n",
        "print(\"Вероятность того, что взвешивание будет произведено с ошибкой, не превосходящей по модулю 10 грамм:\", probability)"
      ],
      "metadata": {
        "id": "Qo9PL0nKUCgk",
        "colab": {
          "base_uri": "https://localhost:8080/"
        },
        "outputId": "60af0219-6b5f-403d-aa1d-9a17cb1dea69"
      },
      "execution_count": null,
      "outputs": [
        {
          "output_type": "stream",
          "name": "stdout",
          "text": [
            "Вероятность того, что взвешивание будет произведено с ошибкой, не превосходящей по модулю 10 грамм: 0.38292492254802624\n"
          ]
        }
      ]
    },
    {
      "cell_type": "markdown",
      "source": [
        "### Задача 3"
      ],
      "metadata": {
        "id": "boRggxoCokHb"
      }
    },
    {
      "cell_type": "markdown",
      "source": [
        " Книга в 500 страниц содержит 50 опечаток. Оцените вероятность того,что на случайно выбранной странице не менее 3 опечаток"
      ],
      "metadata": {
        "id": "6nVUVXUJoswS"
      }
    },
    {
      "cell_type": "markdown",
      "source": [
        "Можно ожидать, что на одной странице встретится 0.1 опечаток, причём количество букв на одной странице велико, таким образом можно воспользоваться распределением Пуассона. Пусть P - вероятность успеха."
      ],
      "metadata": {
        "id": "kSztERX4V1PW"
      }
    },
    {
      "cell_type": "markdown",
      "source": [
        "Распределение Пуассона имеет следующую формулу для вычисления вероятности \\\n",
        "P(X = k):\n",
        "\n",
        "P(X = k) = (e^(-λ) * λ^k) / k!"
      ],
      "metadata": {
        "id": "Cz_zWc6lYQAp"
      }
    },
    {
      "cell_type": "markdown",
      "source": [
        "где:\n",
        "\n",
        "- X - случайная величина, представляющая число опечаток на каждой странице,\n",
        "\n",
        "- λ - среднее значение числа опечаток на каждой странице.\n",
        "\n",
        "Для нашей задачи:\n",
        "\n",
        "- Количество страниц N = 500,\n",
        "\n",
        "- Количество опечаток k = 50."
      ],
      "metadata": {
        "id": "yyBfuMT2YUio"
      }
    },
    {
      "cell_type": "markdown",
      "source": [
        "Мы можем оценить среднее значение λ:\n",
        "λ = (количество опечаток) / (количество страниц)\n",
        "\n",
        "В данном случае:\n",
        "λ = 50 / 500 = 0.1"
      ],
      "metadata": {
        "id": "NI9e3V9LYXT3"
      }
    },
    {
      "cell_type": "markdown",
      "source": [
        " Успех $P_{1}$ - одна опечатка на странице.\n"
      ],
      "metadata": {
        "id": "jYjJCFVKUhvG"
      }
    },
    {
      "cell_type": "markdown",
      "source": [
        "$P_{X>=3} = ? $"
      ],
      "metadata": {
        "id": "wToXqzjdVTbP"
      }
    },
    {
      "cell_type": "markdown",
      "source": [
        "$P(X ≥ 3) = 1 - P(X < 3) = 1 - [P(X = 0) + P(X = 1) + P(X = 2)] $"
      ],
      "metadata": {
        "id": "vrqVwztaVwaM"
      }
    },
    {
      "cell_type": "markdown",
      "source": [
        "$ P(X = 0) = (e^{-0.1} * (0.1)^0) / 0! = e^{-0.1} ≈ 0.9048 $\n",
        "\n",
        "$P(X = 1) = (e^{-0.1} * (0.1)^1) / 1! = 0.1 * e^{-0.1} ≈ 0.0905 $\n",
        "\n",
        "$ P(X = 2) = (e^{-0.1} * (0.1)^2) / 2! = 0.01 * e^{-0.1} ≈ 0.0045 $"
      ],
      "metadata": {
        "id": "mpCynMPWYv_p"
      }
    },
    {
      "cell_type": "markdown",
      "source": [
        "Теперь мы можем вычислить вероятность:\n",
        "\n",
        "$ P(X >= 3) = 1 - (0.9048 + 0.0905 + 0.0045) ≈ 1 - 0.9998 ≈ 0.0002 $\n",
        "\n",
        "Таким образом, вероятность того, что на случайно выбранной странице будет не менее 3 опечаток, очень низкая и составляет около 0.02% (или 0.0002)."
      ],
      "metadata": {
        "id": "UQ4oZVuHYyRj"
      }
    },
    {
      "cell_type": "code",
      "source": [
        "import math\n",
        "\n",
        "def calculate_poisson_probability(k, lamb):\n",
        "    return (math.exp(-lamb) * (lamb ** k)) / math.factorial(k)\n",
        "\n",
        "def calculate_probability_at_least_n(k, lamb):\n",
        "    probability = 0\n",
        "    for i in range(k):\n",
        "        probability += calculate_poisson_probability(i, lamb)\n",
        "    return 1 - probability\n",
        "\n",
        "pages = 500\n",
        "typos = 50\n",
        "\n",
        "lamb = typos / pages  # среднее значение опечаток на каждой странице\n",
        "\n",
        "probability_at_least_3 = calculate_probability_at_least_n(3, lamb)\n",
        "\n",
        "print(\"Вероятность того, что на случайно выбранной странице будет не менее 3 опечаток:\", probability_at_least_3)"
      ],
      "metadata": {
        "colab": {
          "base_uri": "https://localhost:8080/"
        },
        "id": "ZuUFAptfZs46",
        "outputId": "9c0c6fea-84c5-40f1-af15-faf8d659c327"
      },
      "execution_count": null,
      "outputs": [
        {
          "output_type": "stream",
          "name": "stdout",
          "text": [
            "Вероятность того, что на случайно выбранной странице будет не менее 3 опечаток: 0.00015465307026474306\n"
          ]
        }
      ]
    }
  ]
}