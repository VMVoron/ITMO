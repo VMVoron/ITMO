{
  "nbformat": 4,
  "nbformat_minor": 0,
  "metadata": {
    "colab": {
      "provenance": [],
      "include_colab_link": true
    },
    "kernelspec": {
      "name": "python3",
      "display_name": "Python 3"
    },
    "language_info": {
      "name": "python"
    },
    "widgets": {
      "application/vnd.jupyter.widget-state+json": {
        "140e819b078e40a29ba321713b4a7fb0": {
          "model_module": "@jupyter-widgets/controls",
          "model_name": "HBoxModel",
          "model_module_version": "1.5.0",
          "state": {
            "_dom_classes": [],
            "_model_module": "@jupyter-widgets/controls",
            "_model_module_version": "1.5.0",
            "_model_name": "HBoxModel",
            "_view_count": null,
            "_view_module": "@jupyter-widgets/controls",
            "_view_module_version": "1.5.0",
            "_view_name": "HBoxView",
            "box_style": "",
            "children": [
              "IPY_MODEL_37db9d431c0c421d95fc255bc79bc2dc",
              "IPY_MODEL_d72f44cd2f1c4601b183b927d5378613",
              "IPY_MODEL_78454eafe552492ebeea6b086e790ee5"
            ],
            "layout": "IPY_MODEL_71c7b16c09274340b8e53dd6c2216d52"
          }
        },
        "37db9d431c0c421d95fc255bc79bc2dc": {
          "model_module": "@jupyter-widgets/controls",
          "model_name": "HTMLModel",
          "model_module_version": "1.5.0",
          "state": {
            "_dom_classes": [],
            "_model_module": "@jupyter-widgets/controls",
            "_model_module_version": "1.5.0",
            "_model_name": "HTMLModel",
            "_view_count": null,
            "_view_module": "@jupyter-widgets/controls",
            "_view_module_version": "1.5.0",
            "_view_name": "HTMLView",
            "description": "",
            "description_tooltip": null,
            "layout": "IPY_MODEL_f11d597db4ab4b10b4a824c5bfbdd72e",
            "placeholder": "​",
            "style": "IPY_MODEL_b8a7adc54b6c4d739f0ed826f34cab3f",
            "value": "100%"
          }
        },
        "d72f44cd2f1c4601b183b927d5378613": {
          "model_module": "@jupyter-widgets/controls",
          "model_name": "FloatProgressModel",
          "model_module_version": "1.5.0",
          "state": {
            "_dom_classes": [],
            "_model_module": "@jupyter-widgets/controls",
            "_model_module_version": "1.5.0",
            "_model_name": "FloatProgressModel",
            "_view_count": null,
            "_view_module": "@jupyter-widgets/controls",
            "_view_module_version": "1.5.0",
            "_view_name": "ProgressView",
            "bar_style": "success",
            "description": "",
            "description_tooltip": null,
            "layout": "IPY_MODEL_f78fc069e1a74000ae9b631aab408459",
            "max": 100000,
            "min": 0,
            "orientation": "horizontal",
            "style": "IPY_MODEL_fc9445fa315c4c00972a652f12787f4f",
            "value": 100000
          }
        },
        "78454eafe552492ebeea6b086e790ee5": {
          "model_module": "@jupyter-widgets/controls",
          "model_name": "HTMLModel",
          "model_module_version": "1.5.0",
          "state": {
            "_dom_classes": [],
            "_model_module": "@jupyter-widgets/controls",
            "_model_module_version": "1.5.0",
            "_model_name": "HTMLModel",
            "_view_count": null,
            "_view_module": "@jupyter-widgets/controls",
            "_view_module_version": "1.5.0",
            "_view_name": "HTMLView",
            "description": "",
            "description_tooltip": null,
            "layout": "IPY_MODEL_c1c3f15616484f39a94b27fa13bb3967",
            "placeholder": "​",
            "style": "IPY_MODEL_985638e142954ef8b3e77c1f4c395a5e",
            "value": " 100000/100000 [00:00&lt;00:00, 143304.01it/s]"
          }
        },
        "71c7b16c09274340b8e53dd6c2216d52": {
          "model_module": "@jupyter-widgets/base",
          "model_name": "LayoutModel",
          "model_module_version": "1.2.0",
          "state": {
            "_model_module": "@jupyter-widgets/base",
            "_model_module_version": "1.2.0",
            "_model_name": "LayoutModel",
            "_view_count": null,
            "_view_module": "@jupyter-widgets/base",
            "_view_module_version": "1.2.0",
            "_view_name": "LayoutView",
            "align_content": null,
            "align_items": null,
            "align_self": null,
            "border": null,
            "bottom": null,
            "display": null,
            "flex": null,
            "flex_flow": null,
            "grid_area": null,
            "grid_auto_columns": null,
            "grid_auto_flow": null,
            "grid_auto_rows": null,
            "grid_column": null,
            "grid_gap": null,
            "grid_row": null,
            "grid_template_areas": null,
            "grid_template_columns": null,
            "grid_template_rows": null,
            "height": null,
            "justify_content": null,
            "justify_items": null,
            "left": null,
            "margin": null,
            "max_height": null,
            "max_width": null,
            "min_height": null,
            "min_width": null,
            "object_fit": null,
            "object_position": null,
            "order": null,
            "overflow": null,
            "overflow_x": null,
            "overflow_y": null,
            "padding": null,
            "right": null,
            "top": null,
            "visibility": null,
            "width": null
          }
        },
        "f11d597db4ab4b10b4a824c5bfbdd72e": {
          "model_module": "@jupyter-widgets/base",
          "model_name": "LayoutModel",
          "model_module_version": "1.2.0",
          "state": {
            "_model_module": "@jupyter-widgets/base",
            "_model_module_version": "1.2.0",
            "_model_name": "LayoutModel",
            "_view_count": null,
            "_view_module": "@jupyter-widgets/base",
            "_view_module_version": "1.2.0",
            "_view_name": "LayoutView",
            "align_content": null,
            "align_items": null,
            "align_self": null,
            "border": null,
            "bottom": null,
            "display": null,
            "flex": null,
            "flex_flow": null,
            "grid_area": null,
            "grid_auto_columns": null,
            "grid_auto_flow": null,
            "grid_auto_rows": null,
            "grid_column": null,
            "grid_gap": null,
            "grid_row": null,
            "grid_template_areas": null,
            "grid_template_columns": null,
            "grid_template_rows": null,
            "height": null,
            "justify_content": null,
            "justify_items": null,
            "left": null,
            "margin": null,
            "max_height": null,
            "max_width": null,
            "min_height": null,
            "min_width": null,
            "object_fit": null,
            "object_position": null,
            "order": null,
            "overflow": null,
            "overflow_x": null,
            "overflow_y": null,
            "padding": null,
            "right": null,
            "top": null,
            "visibility": null,
            "width": null
          }
        },
        "b8a7adc54b6c4d739f0ed826f34cab3f": {
          "model_module": "@jupyter-widgets/controls",
          "model_name": "DescriptionStyleModel",
          "model_module_version": "1.5.0",
          "state": {
            "_model_module": "@jupyter-widgets/controls",
            "_model_module_version": "1.5.0",
            "_model_name": "DescriptionStyleModel",
            "_view_count": null,
            "_view_module": "@jupyter-widgets/base",
            "_view_module_version": "1.2.0",
            "_view_name": "StyleView",
            "description_width": ""
          }
        },
        "f78fc069e1a74000ae9b631aab408459": {
          "model_module": "@jupyter-widgets/base",
          "model_name": "LayoutModel",
          "model_module_version": "1.2.0",
          "state": {
            "_model_module": "@jupyter-widgets/base",
            "_model_module_version": "1.2.0",
            "_model_name": "LayoutModel",
            "_view_count": null,
            "_view_module": "@jupyter-widgets/base",
            "_view_module_version": "1.2.0",
            "_view_name": "LayoutView",
            "align_content": null,
            "align_items": null,
            "align_self": null,
            "border": null,
            "bottom": null,
            "display": null,
            "flex": null,
            "flex_flow": null,
            "grid_area": null,
            "grid_auto_columns": null,
            "grid_auto_flow": null,
            "grid_auto_rows": null,
            "grid_column": null,
            "grid_gap": null,
            "grid_row": null,
            "grid_template_areas": null,
            "grid_template_columns": null,
            "grid_template_rows": null,
            "height": null,
            "justify_content": null,
            "justify_items": null,
            "left": null,
            "margin": null,
            "max_height": null,
            "max_width": null,
            "min_height": null,
            "min_width": null,
            "object_fit": null,
            "object_position": null,
            "order": null,
            "overflow": null,
            "overflow_x": null,
            "overflow_y": null,
            "padding": null,
            "right": null,
            "top": null,
            "visibility": null,
            "width": null
          }
        },
        "fc9445fa315c4c00972a652f12787f4f": {
          "model_module": "@jupyter-widgets/controls",
          "model_name": "ProgressStyleModel",
          "model_module_version": "1.5.0",
          "state": {
            "_model_module": "@jupyter-widgets/controls",
            "_model_module_version": "1.5.0",
            "_model_name": "ProgressStyleModel",
            "_view_count": null,
            "_view_module": "@jupyter-widgets/base",
            "_view_module_version": "1.2.0",
            "_view_name": "StyleView",
            "bar_color": null,
            "description_width": ""
          }
        },
        "c1c3f15616484f39a94b27fa13bb3967": {
          "model_module": "@jupyter-widgets/base",
          "model_name": "LayoutModel",
          "model_module_version": "1.2.0",
          "state": {
            "_model_module": "@jupyter-widgets/base",
            "_model_module_version": "1.2.0",
            "_model_name": "LayoutModel",
            "_view_count": null,
            "_view_module": "@jupyter-widgets/base",
            "_view_module_version": "1.2.0",
            "_view_name": "LayoutView",
            "align_content": null,
            "align_items": null,
            "align_self": null,
            "border": null,
            "bottom": null,
            "display": null,
            "flex": null,
            "flex_flow": null,
            "grid_area": null,
            "grid_auto_columns": null,
            "grid_auto_flow": null,
            "grid_auto_rows": null,
            "grid_column": null,
            "grid_gap": null,
            "grid_row": null,
            "grid_template_areas": null,
            "grid_template_columns": null,
            "grid_template_rows": null,
            "height": null,
            "justify_content": null,
            "justify_items": null,
            "left": null,
            "margin": null,
            "max_height": null,
            "max_width": null,
            "min_height": null,
            "min_width": null,
            "object_fit": null,
            "object_position": null,
            "order": null,
            "overflow": null,
            "overflow_x": null,
            "overflow_y": null,
            "padding": null,
            "right": null,
            "top": null,
            "visibility": null,
            "width": null
          }
        },
        "985638e142954ef8b3e77c1f4c395a5e": {
          "model_module": "@jupyter-widgets/controls",
          "model_name": "DescriptionStyleModel",
          "model_module_version": "1.5.0",
          "state": {
            "_model_module": "@jupyter-widgets/controls",
            "_model_module_version": "1.5.0",
            "_model_name": "DescriptionStyleModel",
            "_view_count": null,
            "_view_module": "@jupyter-widgets/base",
            "_view_module_version": "1.2.0",
            "_view_name": "StyleView",
            "description_width": ""
          }
        },
        "5b7b4db33bd0471ead1a0319bdb96c43": {
          "model_module": "@jupyter-widgets/controls",
          "model_name": "HBoxModel",
          "model_module_version": "1.5.0",
          "state": {
            "_dom_classes": [],
            "_model_module": "@jupyter-widgets/controls",
            "_model_module_version": "1.5.0",
            "_model_name": "HBoxModel",
            "_view_count": null,
            "_view_module": "@jupyter-widgets/controls",
            "_view_module_version": "1.5.0",
            "_view_name": "HBoxView",
            "box_style": "",
            "children": [
              "IPY_MODEL_4e0b15fa4e7f4e7c8660711c57af0ed5",
              "IPY_MODEL_7ca2ff3e63074a0fbddd3d167a665ee6",
              "IPY_MODEL_f928f09b761c44dd9d814451b5d55759"
            ],
            "layout": "IPY_MODEL_ff18d75760fd4bec8a5e6cf445989af0"
          }
        },
        "4e0b15fa4e7f4e7c8660711c57af0ed5": {
          "model_module": "@jupyter-widgets/controls",
          "model_name": "HTMLModel",
          "model_module_version": "1.5.0",
          "state": {
            "_dom_classes": [],
            "_model_module": "@jupyter-widgets/controls",
            "_model_module_version": "1.5.0",
            "_model_name": "HTMLModel",
            "_view_count": null,
            "_view_module": "@jupyter-widgets/controls",
            "_view_module_version": "1.5.0",
            "_view_name": "HTMLView",
            "description": "",
            "description_tooltip": null,
            "layout": "IPY_MODEL_098ead475a204323b6c55aca664317a9",
            "placeholder": "​",
            "style": "IPY_MODEL_55b2dae2c3894d5bb389608d035b382e",
            "value": "100%"
          }
        },
        "7ca2ff3e63074a0fbddd3d167a665ee6": {
          "model_module": "@jupyter-widgets/controls",
          "model_name": "FloatProgressModel",
          "model_module_version": "1.5.0",
          "state": {
            "_dom_classes": [],
            "_model_module": "@jupyter-widgets/controls",
            "_model_module_version": "1.5.0",
            "_model_name": "FloatProgressModel",
            "_view_count": null,
            "_view_module": "@jupyter-widgets/controls",
            "_view_module_version": "1.5.0",
            "_view_name": "ProgressView",
            "bar_style": "success",
            "description": "",
            "description_tooltip": null,
            "layout": "IPY_MODEL_8527b85efc2b4d1ca8d3af409f2a1119",
            "max": 100000,
            "min": 0,
            "orientation": "horizontal",
            "style": "IPY_MODEL_dea228b9ad9a474a998e3fa036e31f4c",
            "value": 100000
          }
        },
        "f928f09b761c44dd9d814451b5d55759": {
          "model_module": "@jupyter-widgets/controls",
          "model_name": "HTMLModel",
          "model_module_version": "1.5.0",
          "state": {
            "_dom_classes": [],
            "_model_module": "@jupyter-widgets/controls",
            "_model_module_version": "1.5.0",
            "_model_name": "HTMLModel",
            "_view_count": null,
            "_view_module": "@jupyter-widgets/controls",
            "_view_module_version": "1.5.0",
            "_view_name": "HTMLView",
            "description": "",
            "description_tooltip": null,
            "layout": "IPY_MODEL_6bd9f809ae1646db8628613bbaa5b7f0",
            "placeholder": "​",
            "style": "IPY_MODEL_1e06227081884b9f8f734e3ba2dc5f66",
            "value": " 100000/100000 [00:00&lt;00:00, 367862.09it/s]"
          }
        },
        "ff18d75760fd4bec8a5e6cf445989af0": {
          "model_module": "@jupyter-widgets/base",
          "model_name": "LayoutModel",
          "model_module_version": "1.2.0",
          "state": {
            "_model_module": "@jupyter-widgets/base",
            "_model_module_version": "1.2.0",
            "_model_name": "LayoutModel",
            "_view_count": null,
            "_view_module": "@jupyter-widgets/base",
            "_view_module_version": "1.2.0",
            "_view_name": "LayoutView",
            "align_content": null,
            "align_items": null,
            "align_self": null,
            "border": null,
            "bottom": null,
            "display": null,
            "flex": null,
            "flex_flow": null,
            "grid_area": null,
            "grid_auto_columns": null,
            "grid_auto_flow": null,
            "grid_auto_rows": null,
            "grid_column": null,
            "grid_gap": null,
            "grid_row": null,
            "grid_template_areas": null,
            "grid_template_columns": null,
            "grid_template_rows": null,
            "height": null,
            "justify_content": null,
            "justify_items": null,
            "left": null,
            "margin": null,
            "max_height": null,
            "max_width": null,
            "min_height": null,
            "min_width": null,
            "object_fit": null,
            "object_position": null,
            "order": null,
            "overflow": null,
            "overflow_x": null,
            "overflow_y": null,
            "padding": null,
            "right": null,
            "top": null,
            "visibility": null,
            "width": null
          }
        },
        "098ead475a204323b6c55aca664317a9": {
          "model_module": "@jupyter-widgets/base",
          "model_name": "LayoutModel",
          "model_module_version": "1.2.0",
          "state": {
            "_model_module": "@jupyter-widgets/base",
            "_model_module_version": "1.2.0",
            "_model_name": "LayoutModel",
            "_view_count": null,
            "_view_module": "@jupyter-widgets/base",
            "_view_module_version": "1.2.0",
            "_view_name": "LayoutView",
            "align_content": null,
            "align_items": null,
            "align_self": null,
            "border": null,
            "bottom": null,
            "display": null,
            "flex": null,
            "flex_flow": null,
            "grid_area": null,
            "grid_auto_columns": null,
            "grid_auto_flow": null,
            "grid_auto_rows": null,
            "grid_column": null,
            "grid_gap": null,
            "grid_row": null,
            "grid_template_areas": null,
            "grid_template_columns": null,
            "grid_template_rows": null,
            "height": null,
            "justify_content": null,
            "justify_items": null,
            "left": null,
            "margin": null,
            "max_height": null,
            "max_width": null,
            "min_height": null,
            "min_width": null,
            "object_fit": null,
            "object_position": null,
            "order": null,
            "overflow": null,
            "overflow_x": null,
            "overflow_y": null,
            "padding": null,
            "right": null,
            "top": null,
            "visibility": null,
            "width": null
          }
        },
        "55b2dae2c3894d5bb389608d035b382e": {
          "model_module": "@jupyter-widgets/controls",
          "model_name": "DescriptionStyleModel",
          "model_module_version": "1.5.0",
          "state": {
            "_model_module": "@jupyter-widgets/controls",
            "_model_module_version": "1.5.0",
            "_model_name": "DescriptionStyleModel",
            "_view_count": null,
            "_view_module": "@jupyter-widgets/base",
            "_view_module_version": "1.2.0",
            "_view_name": "StyleView",
            "description_width": ""
          }
        },
        "8527b85efc2b4d1ca8d3af409f2a1119": {
          "model_module": "@jupyter-widgets/base",
          "model_name": "LayoutModel",
          "model_module_version": "1.2.0",
          "state": {
            "_model_module": "@jupyter-widgets/base",
            "_model_module_version": "1.2.0",
            "_model_name": "LayoutModel",
            "_view_count": null,
            "_view_module": "@jupyter-widgets/base",
            "_view_module_version": "1.2.0",
            "_view_name": "LayoutView",
            "align_content": null,
            "align_items": null,
            "align_self": null,
            "border": null,
            "bottom": null,
            "display": null,
            "flex": null,
            "flex_flow": null,
            "grid_area": null,
            "grid_auto_columns": null,
            "grid_auto_flow": null,
            "grid_auto_rows": null,
            "grid_column": null,
            "grid_gap": null,
            "grid_row": null,
            "grid_template_areas": null,
            "grid_template_columns": null,
            "grid_template_rows": null,
            "height": null,
            "justify_content": null,
            "justify_items": null,
            "left": null,
            "margin": null,
            "max_height": null,
            "max_width": null,
            "min_height": null,
            "min_width": null,
            "object_fit": null,
            "object_position": null,
            "order": null,
            "overflow": null,
            "overflow_x": null,
            "overflow_y": null,
            "padding": null,
            "right": null,
            "top": null,
            "visibility": null,
            "width": null
          }
        },
        "dea228b9ad9a474a998e3fa036e31f4c": {
          "model_module": "@jupyter-widgets/controls",
          "model_name": "ProgressStyleModel",
          "model_module_version": "1.5.0",
          "state": {
            "_model_module": "@jupyter-widgets/controls",
            "_model_module_version": "1.5.0",
            "_model_name": "ProgressStyleModel",
            "_view_count": null,
            "_view_module": "@jupyter-widgets/base",
            "_view_module_version": "1.2.0",
            "_view_name": "StyleView",
            "bar_color": null,
            "description_width": ""
          }
        },
        "6bd9f809ae1646db8628613bbaa5b7f0": {
          "model_module": "@jupyter-widgets/base",
          "model_name": "LayoutModel",
          "model_module_version": "1.2.0",
          "state": {
            "_model_module": "@jupyter-widgets/base",
            "_model_module_version": "1.2.0",
            "_model_name": "LayoutModel",
            "_view_count": null,
            "_view_module": "@jupyter-widgets/base",
            "_view_module_version": "1.2.0",
            "_view_name": "LayoutView",
            "align_content": null,
            "align_items": null,
            "align_self": null,
            "border": null,
            "bottom": null,
            "display": null,
            "flex": null,
            "flex_flow": null,
            "grid_area": null,
            "grid_auto_columns": null,
            "grid_auto_flow": null,
            "grid_auto_rows": null,
            "grid_column": null,
            "grid_gap": null,
            "grid_row": null,
            "grid_template_areas": null,
            "grid_template_columns": null,
            "grid_template_rows": null,
            "height": null,
            "justify_content": null,
            "justify_items": null,
            "left": null,
            "margin": null,
            "max_height": null,
            "max_width": null,
            "min_height": null,
            "min_width": null,
            "object_fit": null,
            "object_position": null,
            "order": null,
            "overflow": null,
            "overflow_x": null,
            "overflow_y": null,
            "padding": null,
            "right": null,
            "top": null,
            "visibility": null,
            "width": null
          }
        },
        "1e06227081884b9f8f734e3ba2dc5f66": {
          "model_module": "@jupyter-widgets/controls",
          "model_name": "DescriptionStyleModel",
          "model_module_version": "1.5.0",
          "state": {
            "_model_module": "@jupyter-widgets/controls",
            "_model_module_version": "1.5.0",
            "_model_name": "DescriptionStyleModel",
            "_view_count": null,
            "_view_module": "@jupyter-widgets/base",
            "_view_module_version": "1.2.0",
            "_view_name": "StyleView",
            "description_width": ""
          }
        },
        "e21aa5e8b7f54692b0f3293a6789ec0a": {
          "model_module": "@jupyter-widgets/controls",
          "model_name": "HBoxModel",
          "model_module_version": "1.5.0",
          "state": {
            "_dom_classes": [],
            "_model_module": "@jupyter-widgets/controls",
            "_model_module_version": "1.5.0",
            "_model_name": "HBoxModel",
            "_view_count": null,
            "_view_module": "@jupyter-widgets/controls",
            "_view_module_version": "1.5.0",
            "_view_name": "HBoxView",
            "box_style": "",
            "children": [
              "IPY_MODEL_280455ace43645db8512f85adb03acf7",
              "IPY_MODEL_fb33550caae7466896f3377f2c79a4f5",
              "IPY_MODEL_8f94f98dc49a4cb480663c7abd3a6628"
            ],
            "layout": "IPY_MODEL_176c6e720b614144bce8f438bc5cc1a3"
          }
        },
        "280455ace43645db8512f85adb03acf7": {
          "model_module": "@jupyter-widgets/controls",
          "model_name": "HTMLModel",
          "model_module_version": "1.5.0",
          "state": {
            "_dom_classes": [],
            "_model_module": "@jupyter-widgets/controls",
            "_model_module_version": "1.5.0",
            "_model_name": "HTMLModel",
            "_view_count": null,
            "_view_module": "@jupyter-widgets/controls",
            "_view_module_version": "1.5.0",
            "_view_name": "HTMLView",
            "description": "",
            "description_tooltip": null,
            "layout": "IPY_MODEL_69a345c7c96a48b98f410b9920537dee",
            "placeholder": "​",
            "style": "IPY_MODEL_9286968bfa5449ee93667e9fab81f735",
            "value": "100%"
          }
        },
        "fb33550caae7466896f3377f2c79a4f5": {
          "model_module": "@jupyter-widgets/controls",
          "model_name": "FloatProgressModel",
          "model_module_version": "1.5.0",
          "state": {
            "_dom_classes": [],
            "_model_module": "@jupyter-widgets/controls",
            "_model_module_version": "1.5.0",
            "_model_name": "FloatProgressModel",
            "_view_count": null,
            "_view_module": "@jupyter-widgets/controls",
            "_view_module_version": "1.5.0",
            "_view_name": "ProgressView",
            "bar_style": "success",
            "description": "",
            "description_tooltip": null,
            "layout": "IPY_MODEL_9f17d8a44c0e4faaa33a5df9fdf1bc09",
            "max": 100000,
            "min": 0,
            "orientation": "horizontal",
            "style": "IPY_MODEL_465686b3a5904f668490c9a6c0edcb62",
            "value": 100000
          }
        },
        "8f94f98dc49a4cb480663c7abd3a6628": {
          "model_module": "@jupyter-widgets/controls",
          "model_name": "HTMLModel",
          "model_module_version": "1.5.0",
          "state": {
            "_dom_classes": [],
            "_model_module": "@jupyter-widgets/controls",
            "_model_module_version": "1.5.0",
            "_model_name": "HTMLModel",
            "_view_count": null,
            "_view_module": "@jupyter-widgets/controls",
            "_view_module_version": "1.5.0",
            "_view_name": "HTMLView",
            "description": "",
            "description_tooltip": null,
            "layout": "IPY_MODEL_26f1d39a392b4ec292d8bb0d8a30283e",
            "placeholder": "​",
            "style": "IPY_MODEL_61b8a2ea375f44ef989bda9cedd9dd55",
            "value": " 100000/100000 [00:00&lt;00:00, 392415.79it/s]"
          }
        },
        "176c6e720b614144bce8f438bc5cc1a3": {
          "model_module": "@jupyter-widgets/base",
          "model_name": "LayoutModel",
          "model_module_version": "1.2.0",
          "state": {
            "_model_module": "@jupyter-widgets/base",
            "_model_module_version": "1.2.0",
            "_model_name": "LayoutModel",
            "_view_count": null,
            "_view_module": "@jupyter-widgets/base",
            "_view_module_version": "1.2.0",
            "_view_name": "LayoutView",
            "align_content": null,
            "align_items": null,
            "align_self": null,
            "border": null,
            "bottom": null,
            "display": null,
            "flex": null,
            "flex_flow": null,
            "grid_area": null,
            "grid_auto_columns": null,
            "grid_auto_flow": null,
            "grid_auto_rows": null,
            "grid_column": null,
            "grid_gap": null,
            "grid_row": null,
            "grid_template_areas": null,
            "grid_template_columns": null,
            "grid_template_rows": null,
            "height": null,
            "justify_content": null,
            "justify_items": null,
            "left": null,
            "margin": null,
            "max_height": null,
            "max_width": null,
            "min_height": null,
            "min_width": null,
            "object_fit": null,
            "object_position": null,
            "order": null,
            "overflow": null,
            "overflow_x": null,
            "overflow_y": null,
            "padding": null,
            "right": null,
            "top": null,
            "visibility": null,
            "width": null
          }
        },
        "69a345c7c96a48b98f410b9920537dee": {
          "model_module": "@jupyter-widgets/base",
          "model_name": "LayoutModel",
          "model_module_version": "1.2.0",
          "state": {
            "_model_module": "@jupyter-widgets/base",
            "_model_module_version": "1.2.0",
            "_model_name": "LayoutModel",
            "_view_count": null,
            "_view_module": "@jupyter-widgets/base",
            "_view_module_version": "1.2.0",
            "_view_name": "LayoutView",
            "align_content": null,
            "align_items": null,
            "align_self": null,
            "border": null,
            "bottom": null,
            "display": null,
            "flex": null,
            "flex_flow": null,
            "grid_area": null,
            "grid_auto_columns": null,
            "grid_auto_flow": null,
            "grid_auto_rows": null,
            "grid_column": null,
            "grid_gap": null,
            "grid_row": null,
            "grid_template_areas": null,
            "grid_template_columns": null,
            "grid_template_rows": null,
            "height": null,
            "justify_content": null,
            "justify_items": null,
            "left": null,
            "margin": null,
            "max_height": null,
            "max_width": null,
            "min_height": null,
            "min_width": null,
            "object_fit": null,
            "object_position": null,
            "order": null,
            "overflow": null,
            "overflow_x": null,
            "overflow_y": null,
            "padding": null,
            "right": null,
            "top": null,
            "visibility": null,
            "width": null
          }
        },
        "9286968bfa5449ee93667e9fab81f735": {
          "model_module": "@jupyter-widgets/controls",
          "model_name": "DescriptionStyleModel",
          "model_module_version": "1.5.0",
          "state": {
            "_model_module": "@jupyter-widgets/controls",
            "_model_module_version": "1.5.0",
            "_model_name": "DescriptionStyleModel",
            "_view_count": null,
            "_view_module": "@jupyter-widgets/base",
            "_view_module_version": "1.2.0",
            "_view_name": "StyleView",
            "description_width": ""
          }
        },
        "9f17d8a44c0e4faaa33a5df9fdf1bc09": {
          "model_module": "@jupyter-widgets/base",
          "model_name": "LayoutModel",
          "model_module_version": "1.2.0",
          "state": {
            "_model_module": "@jupyter-widgets/base",
            "_model_module_version": "1.2.0",
            "_model_name": "LayoutModel",
            "_view_count": null,
            "_view_module": "@jupyter-widgets/base",
            "_view_module_version": "1.2.0",
            "_view_name": "LayoutView",
            "align_content": null,
            "align_items": null,
            "align_self": null,
            "border": null,
            "bottom": null,
            "display": null,
            "flex": null,
            "flex_flow": null,
            "grid_area": null,
            "grid_auto_columns": null,
            "grid_auto_flow": null,
            "grid_auto_rows": null,
            "grid_column": null,
            "grid_gap": null,
            "grid_row": null,
            "grid_template_areas": null,
            "grid_template_columns": null,
            "grid_template_rows": null,
            "height": null,
            "justify_content": null,
            "justify_items": null,
            "left": null,
            "margin": null,
            "max_height": null,
            "max_width": null,
            "min_height": null,
            "min_width": null,
            "object_fit": null,
            "object_position": null,
            "order": null,
            "overflow": null,
            "overflow_x": null,
            "overflow_y": null,
            "padding": null,
            "right": null,
            "top": null,
            "visibility": null,
            "width": null
          }
        },
        "465686b3a5904f668490c9a6c0edcb62": {
          "model_module": "@jupyter-widgets/controls",
          "model_name": "ProgressStyleModel",
          "model_module_version": "1.5.0",
          "state": {
            "_model_module": "@jupyter-widgets/controls",
            "_model_module_version": "1.5.0",
            "_model_name": "ProgressStyleModel",
            "_view_count": null,
            "_view_module": "@jupyter-widgets/base",
            "_view_module_version": "1.2.0",
            "_view_name": "StyleView",
            "bar_color": null,
            "description_width": ""
          }
        },
        "26f1d39a392b4ec292d8bb0d8a30283e": {
          "model_module": "@jupyter-widgets/base",
          "model_name": "LayoutModel",
          "model_module_version": "1.2.0",
          "state": {
            "_model_module": "@jupyter-widgets/base",
            "_model_module_version": "1.2.0",
            "_model_name": "LayoutModel",
            "_view_count": null,
            "_view_module": "@jupyter-widgets/base",
            "_view_module_version": "1.2.0",
            "_view_name": "LayoutView",
            "align_content": null,
            "align_items": null,
            "align_self": null,
            "border": null,
            "bottom": null,
            "display": null,
            "flex": null,
            "flex_flow": null,
            "grid_area": null,
            "grid_auto_columns": null,
            "grid_auto_flow": null,
            "grid_auto_rows": null,
            "grid_column": null,
            "grid_gap": null,
            "grid_row": null,
            "grid_template_areas": null,
            "grid_template_columns": null,
            "grid_template_rows": null,
            "height": null,
            "justify_content": null,
            "justify_items": null,
            "left": null,
            "margin": null,
            "max_height": null,
            "max_width": null,
            "min_height": null,
            "min_width": null,
            "object_fit": null,
            "object_position": null,
            "order": null,
            "overflow": null,
            "overflow_x": null,
            "overflow_y": null,
            "padding": null,
            "right": null,
            "top": null,
            "visibility": null,
            "width": null
          }
        },
        "61b8a2ea375f44ef989bda9cedd9dd55": {
          "model_module": "@jupyter-widgets/controls",
          "model_name": "DescriptionStyleModel",
          "model_module_version": "1.5.0",
          "state": {
            "_model_module": "@jupyter-widgets/controls",
            "_model_module_version": "1.5.0",
            "_model_name": "DescriptionStyleModel",
            "_view_count": null,
            "_view_module": "@jupyter-widgets/base",
            "_view_module_version": "1.2.0",
            "_view_name": "StyleView",
            "description_width": ""
          }
        },
        "e27fb2bb7458433a8c900ce8241265b7": {
          "model_module": "@jupyter-widgets/controls",
          "model_name": "HBoxModel",
          "model_module_version": "1.5.0",
          "state": {
            "_dom_classes": [],
            "_model_module": "@jupyter-widgets/controls",
            "_model_module_version": "1.5.0",
            "_model_name": "HBoxModel",
            "_view_count": null,
            "_view_module": "@jupyter-widgets/controls",
            "_view_module_version": "1.5.0",
            "_view_name": "HBoxView",
            "box_style": "",
            "children": [
              "IPY_MODEL_ee8d0c6f1b624a8f87776947e2f18e6c",
              "IPY_MODEL_222c1b4be10a44eebcfac9a8e8a9c89c",
              "IPY_MODEL_2ca57d9c63f24bec8c5b9a94d416d534"
            ],
            "layout": "IPY_MODEL_969efebec78749b195053315d6cd7254"
          }
        },
        "ee8d0c6f1b624a8f87776947e2f18e6c": {
          "model_module": "@jupyter-widgets/controls",
          "model_name": "HTMLModel",
          "model_module_version": "1.5.0",
          "state": {
            "_dom_classes": [],
            "_model_module": "@jupyter-widgets/controls",
            "_model_module_version": "1.5.0",
            "_model_name": "HTMLModel",
            "_view_count": null,
            "_view_module": "@jupyter-widgets/controls",
            "_view_module_version": "1.5.0",
            "_view_name": "HTMLView",
            "description": "",
            "description_tooltip": null,
            "layout": "IPY_MODEL_ba673b56b3404853b2ca7b9c27d395d8",
            "placeholder": "​",
            "style": "IPY_MODEL_0a1a71c81f514323bac0a283225e4928",
            "value": "100%"
          }
        },
        "222c1b4be10a44eebcfac9a8e8a9c89c": {
          "model_module": "@jupyter-widgets/controls",
          "model_name": "FloatProgressModel",
          "model_module_version": "1.5.0",
          "state": {
            "_dom_classes": [],
            "_model_module": "@jupyter-widgets/controls",
            "_model_module_version": "1.5.0",
            "_model_name": "FloatProgressModel",
            "_view_count": null,
            "_view_module": "@jupyter-widgets/controls",
            "_view_module_version": "1.5.0",
            "_view_name": "ProgressView",
            "bar_style": "success",
            "description": "",
            "description_tooltip": null,
            "layout": "IPY_MODEL_ea349b01cf654f489e33c95f8c6842d7",
            "max": 100000,
            "min": 0,
            "orientation": "horizontal",
            "style": "IPY_MODEL_77ddb099c0d14f18a99c103c4cc355e1",
            "value": 100000
          }
        },
        "2ca57d9c63f24bec8c5b9a94d416d534": {
          "model_module": "@jupyter-widgets/controls",
          "model_name": "HTMLModel",
          "model_module_version": "1.5.0",
          "state": {
            "_dom_classes": [],
            "_model_module": "@jupyter-widgets/controls",
            "_model_module_version": "1.5.0",
            "_model_name": "HTMLModel",
            "_view_count": null,
            "_view_module": "@jupyter-widgets/controls",
            "_view_module_version": "1.5.0",
            "_view_name": "HTMLView",
            "description": "",
            "description_tooltip": null,
            "layout": "IPY_MODEL_b9c970a0ed2146a79bad86679406dae1",
            "placeholder": "​",
            "style": "IPY_MODEL_c74223ab097a451d879595ad3c7f0db5",
            "value": " 100000/100000 [00:00&lt;00:00, 132624.92it/s]"
          }
        },
        "969efebec78749b195053315d6cd7254": {
          "model_module": "@jupyter-widgets/base",
          "model_name": "LayoutModel",
          "model_module_version": "1.2.0",
          "state": {
            "_model_module": "@jupyter-widgets/base",
            "_model_module_version": "1.2.0",
            "_model_name": "LayoutModel",
            "_view_count": null,
            "_view_module": "@jupyter-widgets/base",
            "_view_module_version": "1.2.0",
            "_view_name": "LayoutView",
            "align_content": null,
            "align_items": null,
            "align_self": null,
            "border": null,
            "bottom": null,
            "display": null,
            "flex": null,
            "flex_flow": null,
            "grid_area": null,
            "grid_auto_columns": null,
            "grid_auto_flow": null,
            "grid_auto_rows": null,
            "grid_column": null,
            "grid_gap": null,
            "grid_row": null,
            "grid_template_areas": null,
            "grid_template_columns": null,
            "grid_template_rows": null,
            "height": null,
            "justify_content": null,
            "justify_items": null,
            "left": null,
            "margin": null,
            "max_height": null,
            "max_width": null,
            "min_height": null,
            "min_width": null,
            "object_fit": null,
            "object_position": null,
            "order": null,
            "overflow": null,
            "overflow_x": null,
            "overflow_y": null,
            "padding": null,
            "right": null,
            "top": null,
            "visibility": null,
            "width": null
          }
        },
        "ba673b56b3404853b2ca7b9c27d395d8": {
          "model_module": "@jupyter-widgets/base",
          "model_name": "LayoutModel",
          "model_module_version": "1.2.0",
          "state": {
            "_model_module": "@jupyter-widgets/base",
            "_model_module_version": "1.2.0",
            "_model_name": "LayoutModel",
            "_view_count": null,
            "_view_module": "@jupyter-widgets/base",
            "_view_module_version": "1.2.0",
            "_view_name": "LayoutView",
            "align_content": null,
            "align_items": null,
            "align_self": null,
            "border": null,
            "bottom": null,
            "display": null,
            "flex": null,
            "flex_flow": null,
            "grid_area": null,
            "grid_auto_columns": null,
            "grid_auto_flow": null,
            "grid_auto_rows": null,
            "grid_column": null,
            "grid_gap": null,
            "grid_row": null,
            "grid_template_areas": null,
            "grid_template_columns": null,
            "grid_template_rows": null,
            "height": null,
            "justify_content": null,
            "justify_items": null,
            "left": null,
            "margin": null,
            "max_height": null,
            "max_width": null,
            "min_height": null,
            "min_width": null,
            "object_fit": null,
            "object_position": null,
            "order": null,
            "overflow": null,
            "overflow_x": null,
            "overflow_y": null,
            "padding": null,
            "right": null,
            "top": null,
            "visibility": null,
            "width": null
          }
        },
        "0a1a71c81f514323bac0a283225e4928": {
          "model_module": "@jupyter-widgets/controls",
          "model_name": "DescriptionStyleModel",
          "model_module_version": "1.5.0",
          "state": {
            "_model_module": "@jupyter-widgets/controls",
            "_model_module_version": "1.5.0",
            "_model_name": "DescriptionStyleModel",
            "_view_count": null,
            "_view_module": "@jupyter-widgets/base",
            "_view_module_version": "1.2.0",
            "_view_name": "StyleView",
            "description_width": ""
          }
        },
        "ea349b01cf654f489e33c95f8c6842d7": {
          "model_module": "@jupyter-widgets/base",
          "model_name": "LayoutModel",
          "model_module_version": "1.2.0",
          "state": {
            "_model_module": "@jupyter-widgets/base",
            "_model_module_version": "1.2.0",
            "_model_name": "LayoutModel",
            "_view_count": null,
            "_view_module": "@jupyter-widgets/base",
            "_view_module_version": "1.2.0",
            "_view_name": "LayoutView",
            "align_content": null,
            "align_items": null,
            "align_self": null,
            "border": null,
            "bottom": null,
            "display": null,
            "flex": null,
            "flex_flow": null,
            "grid_area": null,
            "grid_auto_columns": null,
            "grid_auto_flow": null,
            "grid_auto_rows": null,
            "grid_column": null,
            "grid_gap": null,
            "grid_row": null,
            "grid_template_areas": null,
            "grid_template_columns": null,
            "grid_template_rows": null,
            "height": null,
            "justify_content": null,
            "justify_items": null,
            "left": null,
            "margin": null,
            "max_height": null,
            "max_width": null,
            "min_height": null,
            "min_width": null,
            "object_fit": null,
            "object_position": null,
            "order": null,
            "overflow": null,
            "overflow_x": null,
            "overflow_y": null,
            "padding": null,
            "right": null,
            "top": null,
            "visibility": null,
            "width": null
          }
        },
        "77ddb099c0d14f18a99c103c4cc355e1": {
          "model_module": "@jupyter-widgets/controls",
          "model_name": "ProgressStyleModel",
          "model_module_version": "1.5.0",
          "state": {
            "_model_module": "@jupyter-widgets/controls",
            "_model_module_version": "1.5.0",
            "_model_name": "ProgressStyleModel",
            "_view_count": null,
            "_view_module": "@jupyter-widgets/base",
            "_view_module_version": "1.2.0",
            "_view_name": "StyleView",
            "bar_color": null,
            "description_width": ""
          }
        },
        "b9c970a0ed2146a79bad86679406dae1": {
          "model_module": "@jupyter-widgets/base",
          "model_name": "LayoutModel",
          "model_module_version": "1.2.0",
          "state": {
            "_model_module": "@jupyter-widgets/base",
            "_model_module_version": "1.2.0",
            "_model_name": "LayoutModel",
            "_view_count": null,
            "_view_module": "@jupyter-widgets/base",
            "_view_module_version": "1.2.0",
            "_view_name": "LayoutView",
            "align_content": null,
            "align_items": null,
            "align_self": null,
            "border": null,
            "bottom": null,
            "display": null,
            "flex": null,
            "flex_flow": null,
            "grid_area": null,
            "grid_auto_columns": null,
            "grid_auto_flow": null,
            "grid_auto_rows": null,
            "grid_column": null,
            "grid_gap": null,
            "grid_row": null,
            "grid_template_areas": null,
            "grid_template_columns": null,
            "grid_template_rows": null,
            "height": null,
            "justify_content": null,
            "justify_items": null,
            "left": null,
            "margin": null,
            "max_height": null,
            "max_width": null,
            "min_height": null,
            "min_width": null,
            "object_fit": null,
            "object_position": null,
            "order": null,
            "overflow": null,
            "overflow_x": null,
            "overflow_y": null,
            "padding": null,
            "right": null,
            "top": null,
            "visibility": null,
            "width": null
          }
        },
        "c74223ab097a451d879595ad3c7f0db5": {
          "model_module": "@jupyter-widgets/controls",
          "model_name": "DescriptionStyleModel",
          "model_module_version": "1.5.0",
          "state": {
            "_model_module": "@jupyter-widgets/controls",
            "_model_module_version": "1.5.0",
            "_model_name": "DescriptionStyleModel",
            "_view_count": null,
            "_view_module": "@jupyter-widgets/base",
            "_view_module_version": "1.2.0",
            "_view_name": "StyleView",
            "description_width": ""
          }
        }
      }
    }
  },
  "cells": [
    {
      "cell_type": "markdown",
      "metadata": {
        "id": "view-in-github",
        "colab_type": "text"
      },
      "source": [
        "<a href=\"https://colab.research.google.com/github/VMVoron/ITMO/blob/main/Prob_Theory_1.ipynb\" target=\"_parent\"><img src=\"https://colab.research.google.com/assets/colab-badge.svg\" alt=\"Open In Colab\"/></a>"
      ]
    },
    {
      "cell_type": "markdown",
      "source": [
        "# Лабораторная работа #1. Вариант 4\n",
        "\n",
        "\n"
      ],
      "metadata": {
        "id": "WIqRGqO9Jgq0"
      }
    },
    {
      "cell_type": "markdown",
      "source": [
        "## Задача 1"
      ],
      "metadata": {
        "id": "B_jCPSK8Jhk7"
      }
    },
    {
      "cell_type": "markdown",
      "source": [
        "В урне 10 белых шаров и 5 синих. Вынули три шара. Какова вероятность того, что все они одного цвета"
      ],
      "metadata": {
        "id": "vKKpj1s3J5QM"
      }
    },
    {
      "cell_type": "markdown",
      "source": [
        "*Решение*\n",
        "\n",
        "Если все шары одного цвета, то они могут быть либо тремя синими, либо тремя красными.\n",
        "Вероятность того, что все они одного цвета $$\\mathsf P_о = P_{c_1c_2c_3} + P_{к_1к_2к_3} = P_A + P_B $$\n",
        "\n"
      ],
      "metadata": {
        "id": "Qbp4rVVKKELI"
      }
    },
    {
      "cell_type": "markdown",
      "source": [
        "$$\\mathsf P_A = P_{c_1c_2c_3} =  P(c_1)* P(c_2|c_1) * P(c_3|c_2  c_1) = \\dfrac {5}{15} * \\dfrac{4}{14} * \\dfrac{3}{13} =  \\dfrac{60}{2730} = \\dfrac{6}{273} $$\n",
        "$$\\mathsf P_B =  P_{б_1б_2б_3} =  P(б_1)* P(б_2|б_1) * P(б_3|б_2  б_1) = \\dfrac{10}{15} * \\dfrac{9}{14} * \\dfrac{8}{13} = \\dfrac{720}{2730} = \\dfrac{72}{273} $$"
      ],
      "metadata": {
        "id": "Q7wXBgK_LtSk"
      }
    },
    {
      "cell_type": "markdown",
      "source": [
        "$$\\mathsf P_o =  P_A + P_B =  \\dfrac{6}{273}+  \\dfrac {72}{273} = \\dfrac{78}{273} = 0.2857142857142857 ≈ 0.286 $$"
      ],
      "metadata": {
        "id": "0Du6YiVPTB1w"
      }
    },
    {
      "cell_type": "code",
      "source": [
        "balls = ['white' for x in range(10)] + ['blue' for x in range(5)]"
      ],
      "metadata": {
        "id": "ICmXk12QUjjf"
      },
      "execution_count": null,
      "outputs": []
    },
    {
      "cell_type": "code",
      "source": [
        "print(balls)"
      ],
      "metadata": {
        "colab": {
          "base_uri": "https://localhost:8080/"
        },
        "id": "1ucadqeEUlC7",
        "outputId": "edb2d852-73fd-4dd9-d8a6-60a7bb1a90f6"
      },
      "execution_count": null,
      "outputs": [
        {
          "output_type": "stream",
          "name": "stdout",
          "text": [
            "['white', 'white', 'white', 'white', 'white', 'white', 'white', 'white', 'white', 'white', 'blue', 'blue', 'blue', 'blue', 'blue']\n"
          ]
        }
      ]
    },
    {
      "cell_type": "code",
      "source": [
        "import random\n",
        "from tqdm.notebook import tqdm\n",
        "\n",
        "k = 3\n",
        "n = 100000\n",
        "\n",
        "success = 0\n",
        "\n",
        "for _ in tqdm(range(n)):\n",
        "  balls = ['white' for x in range(10)] + ['blue' for x in range(5)]\n",
        "  blue = 0\n",
        "  white = 0\n",
        "  for ball in range(k):\n",
        "    number = random.randint(0, len(balls)-1)\n",
        "    #print(number, balls[number])\n",
        "    if balls[number] == 'blue':\n",
        "      blue += 1\n",
        "    else:\n",
        "      white += 1\n",
        "    balls.pop(number)\n",
        "    #print(balls)\n",
        "  if (white == 3) or (blue == 3):\n",
        "    success += 1\n",
        "    #print('success')\n",
        "    blue = 0\n",
        "    white = 0\n",
        "\n",
        "per = success / n\n",
        "r = round(per, 3)\n",
        "print(r)"
      ],
      "metadata": {
        "colab": {
          "base_uri": "https://localhost:8080/",
          "height": 66,
          "referenced_widgets": [
            "140e819b078e40a29ba321713b4a7fb0",
            "37db9d431c0c421d95fc255bc79bc2dc",
            "d72f44cd2f1c4601b183b927d5378613",
            "78454eafe552492ebeea6b086e790ee5",
            "71c7b16c09274340b8e53dd6c2216d52",
            "f11d597db4ab4b10b4a824c5bfbdd72e",
            "b8a7adc54b6c4d739f0ed826f34cab3f",
            "f78fc069e1a74000ae9b631aab408459",
            "fc9445fa315c4c00972a652f12787f4f",
            "c1c3f15616484f39a94b27fa13bb3967",
            "985638e142954ef8b3e77c1f4c395a5e"
          ]
        },
        "id": "loW3kzlwT9To",
        "outputId": "74daf0f9-90ed-4d41-81cb-49d3f656018c"
      },
      "execution_count": null,
      "outputs": [
        {
          "output_type": "display_data",
          "data": {
            "text/plain": [
              "  0%|          | 0/100000 [00:00<?, ?it/s]"
            ],
            "application/vnd.jupyter.widget-view+json": {
              "version_major": 2,
              "version_minor": 0,
              "model_id": "140e819b078e40a29ba321713b4a7fb0"
            }
          },
          "metadata": {}
        },
        {
          "output_type": "stream",
          "name": "stdout",
          "text": [
            "0.286\n"
          ]
        }
      ]
    },
    {
      "cell_type": "markdown",
      "source": [
        "## Задача 2"
      ],
      "metadata": {
        "id": "L-6AwejtThVM"
      }
    },
    {
      "cell_type": "markdown",
      "source": [
        "Последовательно посланы 4 сигнала. Вероятность приема каждого из них не зависит от того, приняты ли остальные сигналы и соответственно равна 0.2, 0.3, 0.4, 0.5. Определите вероятность приема трех сигналов и вероятность приема хотя бы одного сигнала."
      ],
      "metadata": {
        "id": "QB6eJi3WKdWM"
      }
    },
    {
      "cell_type": "markdown",
      "source": [
        "![image.png](data:image/png;base64,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)"
      ],
      "metadata": {
        "id": "zJBTKh5RicKb"
      }
    },
    {
      "cell_type": "markdown",
      "source": [
        "Найдем число сочетаний, при которых мы получим 3 сигнала.\n",
        "$$\\mathsf C^{k}_{n}= \\dfrac {n!}{(n-k)! *k!} $$\n",
        "$$\\mathsf C^{3}_{4} = \\dfrac {4!}{3!(4-3)!} = \\dfrac{4!}{3!}= 4 $$\n",
        "\n",
        "4 варианта"
      ],
      "metadata": {
        "id": "Zrhpl-p2ilM1"
      }
    },
    {
      "cell_type": "markdown",
      "source": [
        "$$\\mathsf P_{3 сигнала} = P_1 + P_2 + P_3 + P_4 $$"
      ],
      "metadata": {
        "id": "qJ7Nz46Al1cR"
      }
    },
    {
      "cell_type": "markdown",
      "source": [
        "Пусть s - success, f - fail, нижний индекс - номер сигнала <br>\n",
        "Перечислим все варианты\n",
        "\n",
        "$$\\mathsf P_1 = s_1 s_2 s_3 f_4  = 0.2 * 0.3 * 0.4 * (1-0.5) = 0.012 $$\n",
        "$$\\mathsf P_2 = s_1 s_2 f_3 s_4 = 0.2 * 0.3 * (1-0.4) * 0.5 = 0.018 $$\n",
        "$$\\mathsf P_3 = s_1 f_2 s_3 s_4 = 0.2 * (1-0.3) * 0.4 * 0.5 ≈ 0.028 $$\n",
        "$$\\mathsf P_4 = f_1 s_2 s_3 s_4 = (1-0.2) * 0.3 * 0.4 * 0.5 = 0.048 $$"
      ],
      "metadata": {
        "id": "-SsqsV_IkqT8"
      }
    },
    {
      "cell_type": "markdown",
      "source": [
        "$$\\mathsf P_{3 сигнала} = P_1 + P_2 + P_3 + P_4 ≈ 0.012 + 0.018 + 0.028 + 0.048 = 0.106 $$"
      ],
      "metadata": {
        "id": "QuMs-LTOnFIC"
      }
    },
    {
      "cell_type": "code",
      "source": [
        "0.012 + 0.018 + 0.028 + 0.048"
      ],
      "metadata": {
        "colab": {
          "base_uri": "https://localhost:8080/"
        },
        "id": "pXpgvkHbkpuD",
        "outputId": "7f41bbb4-fcf0-4c72-bb85-47e4cae46319"
      },
      "execution_count": null,
      "outputs": [
        {
          "output_type": "execute_result",
          "data": {
            "text/plain": [
              "0.106"
            ]
          },
          "metadata": {},
          "execution_count": 99
        }
      ]
    },
    {
      "cell_type": "markdown",
      "source": [
        "Вероятность приема хотя бы одного сигнала = 1 - (вероятность того, что ни один сигнал не принят)"
      ],
      "metadata": {
        "id": "Po_hfQKeoMF6"
      }
    },
    {
      "cell_type": "markdown",
      "source": [
        "$$\\mathsf P_{хотя бы 1 сигнал} = 1 - (f_1 f_2 f_3 f_4) = 1 - (0.8*0.7*0.6*0.5) ≈ 1 - 0.168 = 0.832 $$"
      ],
      "metadata": {
        "id": "p1vMPU8nohfw"
      }
    },
    {
      "cell_type": "code",
      "source": [
        "1 - ((1-0.2) * (1-0.3) * (1-0.4) * (1-0.5) )"
      ],
      "metadata": {
        "colab": {
          "base_uri": "https://localhost:8080/"
        },
        "id": "gQ-yG6R7o9yd",
        "outputId": "bb0ccc93-6c7b-41e4-f6f0-c24f9a233aa9"
      },
      "execution_count": null,
      "outputs": [
        {
          "output_type": "execute_result",
          "data": {
            "text/plain": [
              "0.8320000000000001"
            ]
          },
          "metadata": {},
          "execution_count": 102
        }
      ]
    },
    {
      "cell_type": "code",
      "source": [
        "import random\n",
        "\n",
        "def generate_signal(probability):\n",
        "    if random.random() < probability:\n",
        "        return 1 # сигнал успешно принят\n",
        "    else:\n",
        "        return 0 # сигнал не принят\n",
        "\n",
        "signal_probabilities = [0.2, 0.3, 0.4, 0.5] # вероятность успешной передачи сигнала\n",
        "\n",
        "at_least_1 = 0\n",
        "equal_3 = 0\n",
        "sum = 0\n",
        "n = 100000\n",
        "for _ in tqdm(range(n)):\n",
        "  for prob in signal_probabilities:\n",
        "    result = generate_signal(prob)\n",
        "    if result == 1:\n",
        "        sum += 1\n",
        "    else:\n",
        "        pass\n",
        "  if sum >=1:\n",
        "    at_least_1 += 1\n",
        "    if sum == 3:\n",
        "      equal_3 += 1\n",
        "  else:\n",
        "    pass\n",
        "  sum = 0\n",
        "\n",
        "print('По меньшей мере принят 1 сигнал:', at_least_1/n)\n",
        "print('Принято ровно 3 сигнала:', equal_3/n)"
      ],
      "metadata": {
        "colab": {
          "base_uri": "https://localhost:8080/",
          "height": 84,
          "referenced_widgets": [
            "5b7b4db33bd0471ead1a0319bdb96c43",
            "4e0b15fa4e7f4e7c8660711c57af0ed5",
            "7ca2ff3e63074a0fbddd3d167a665ee6",
            "f928f09b761c44dd9d814451b5d55759",
            "ff18d75760fd4bec8a5e6cf445989af0",
            "098ead475a204323b6c55aca664317a9",
            "55b2dae2c3894d5bb389608d035b382e",
            "8527b85efc2b4d1ca8d3af409f2a1119",
            "dea228b9ad9a474a998e3fa036e31f4c",
            "6bd9f809ae1646db8628613bbaa5b7f0",
            "1e06227081884b9f8f734e3ba2dc5f66"
          ]
        },
        "id": "ANoKy4g4qiKq",
        "outputId": "6239fefd-608d-41b1-a64d-df0d95332419"
      },
      "execution_count": null,
      "outputs": [
        {
          "output_type": "display_data",
          "data": {
            "text/plain": [
              "  0%|          | 0/100000 [00:00<?, ?it/s]"
            ],
            "application/vnd.jupyter.widget-view+json": {
              "version_major": 2,
              "version_minor": 0,
              "model_id": "5b7b4db33bd0471ead1a0319bdb96c43"
            }
          },
          "metadata": {}
        },
        {
          "output_type": "stream",
          "name": "stdout",
          "text": [
            "По меньшей мере принят 1 сигнал: 0.83262\n",
            "Принято ровно 3 сигнала: 0.106\n"
          ]
        }
      ]
    },
    {
      "cell_type": "markdown",
      "source": [
        "## Задача 3"
      ],
      "metadata": {
        "id": "hwL0Wp6jyYwz"
      }
    },
    {
      "cell_type": "markdown",
      "source": [
        "Стрельба производится по пяти мишеням типа А, трем – типа В и двум – типа С. Вероятности попадания в мишени типа А, В, С, равны 0.4, 0.1, 0.15 соответственно. Найти вероятность поражения цели при одном выстреле, если неизвестно, в мишень какого типа он будет сделан"
      ],
      "metadata": {
        "id": "Yj_zniuboR4T"
      }
    },
    {
      "cell_type": "markdown",
      "source": [
        "Всего 10 мишеней."
      ],
      "metadata": {
        "id": "cUxBJ5oLqfNR"
      }
    },
    {
      "cell_type": "markdown",
      "source": [
        "$$\\mathsf P = 0.5 * 0.4 + 0.3 * 0.1 + 0.2 * 0.15 = 0.26 $$"
      ],
      "metadata": {
        "id": "YsgiowTUuypV"
      }
    },
    {
      "cell_type": "code",
      "source": [
        "0.5 * 0.4 + 0.3 * 0.1 + 0.2 * 0.15"
      ],
      "metadata": {
        "colab": {
          "base_uri": "https://localhost:8080/"
        },
        "id": "TpYMF1uPvCcT",
        "outputId": "a1242bc2-f881-40be-f9ad-9d7bb29fd5d1"
      },
      "execution_count": null,
      "outputs": [
        {
          "output_type": "execute_result",
          "data": {
            "text/plain": [
              "0.26"
            ]
          },
          "metadata": {},
          "execution_count": 109
        }
      ]
    },
    {
      "cell_type": "code",
      "source": [
        "goals = ['A' for x in range(5)] + ['B' for x in range(3)] + ['C' for x in range(2)]\n",
        "sum = 0\n",
        "n = 100000\n",
        "for _ in tqdm(range(n)):\n",
        "  for g in range(1):\n",
        "      number = random.randint(0, len(goals)-1)\n",
        "      #print(number, balls[number])\n",
        "      if goals[number] == 'A':\n",
        "        prob = 0.4\n",
        "      elif goals[number] == 'B':\n",
        "        prob = 0.1\n",
        "      else:\n",
        "        prob = 0.15\n",
        "\n",
        "      result = generate_signal(prob)\n",
        "      if result == 1:\n",
        "          sum += 1\n",
        "      else:\n",
        "          pass\n",
        "print('Вероятность попадания в мишень:', sum/n)"
      ],
      "metadata": {
        "colab": {
          "base_uri": "https://localhost:8080/",
          "height": 66,
          "referenced_widgets": [
            "e21aa5e8b7f54692b0f3293a6789ec0a",
            "280455ace43645db8512f85adb03acf7",
            "fb33550caae7466896f3377f2c79a4f5",
            "8f94f98dc49a4cb480663c7abd3a6628",
            "176c6e720b614144bce8f438bc5cc1a3",
            "69a345c7c96a48b98f410b9920537dee",
            "9286968bfa5449ee93667e9fab81f735",
            "9f17d8a44c0e4faaa33a5df9fdf1bc09",
            "465686b3a5904f668490c9a6c0edcb62",
            "26f1d39a392b4ec292d8bb0d8a30283e",
            "61b8a2ea375f44ef989bda9cedd9dd55"
          ]
        },
        "id": "l9adCNgHvb3P",
        "outputId": "15f3257f-bb20-4a22-a6cd-d711c43b75e5"
      },
      "execution_count": null,
      "outputs": [
        {
          "output_type": "display_data",
          "data": {
            "text/plain": [
              "  0%|          | 0/100000 [00:00<?, ?it/s]"
            ],
            "application/vnd.jupyter.widget-view+json": {
              "version_major": 2,
              "version_minor": 0,
              "model_id": "e21aa5e8b7f54692b0f3293a6789ec0a"
            }
          },
          "metadata": {}
        },
        {
          "output_type": "stream",
          "name": "stdout",
          "text": [
            "Вероятность попадания в мишень: 0.25971\n"
          ]
        }
      ]
    },
    {
      "cell_type": "markdown",
      "source": [
        "## Задача 4"
      ],
      "metadata": {
        "id": "RxWPjbaYqis4"
      }
    },
    {
      "cell_type": "markdown",
      "source": [
        "Два парохода должны подойти к одному и тому же причалу независимо друг от друга и равновозможно в течение суток. Определите вероятность того, что одному из них придется ожидать освобождения причала,если время стоянки первого парохода 1 час, а второго - 2 часа"
      ],
      "metadata": {
        "id": "xBeednFdxUD9"
      }
    },
    {
      "cell_type": "code",
      "source": [
        "from math import sqrt\n",
        "1/2*(sqrt(1058)+sqrt(1152))*sqrt(2)"
      ],
      "metadata": {
        "colab": {
          "base_uri": "https://localhost:8080/"
        },
        "id": "PL90lVI90SNS",
        "outputId": "95e76295-c63c-434f-8d52-3510b9ca214d"
      },
      "execution_count": null,
      "outputs": [
        {
          "output_type": "execute_result",
          "data": {
            "text/plain": [
              "47.0"
            ]
          },
          "metadata": {},
          "execution_count": 115
        }
      ]
    },
    {
      "cell_type": "code",
      "source": [
        "24*24"
      ],
      "metadata": {
        "colab": {
          "base_uri": "https://localhost:8080/"
        },
        "id": "jR_rZzIL0eRv",
        "outputId": "f387436d-5463-4f72-db16-669203c46d89"
      },
      "execution_count": null,
      "outputs": [
        {
          "output_type": "execute_result",
          "data": {
            "text/plain": [
              "576"
            ]
          },
          "metadata": {},
          "execution_count": 116
        }
      ]
    },
    {
      "cell_type": "code",
      "source": [
        "47/576"
      ],
      "metadata": {
        "colab": {
          "base_uri": "https://localhost:8080/"
        },
        "id": "jN2C0Bnq0gKp",
        "outputId": "6b443f0b-6eb8-4f3e-fceb-485656c0ade3"
      },
      "execution_count": null,
      "outputs": [
        {
          "output_type": "execute_result",
          "data": {
            "text/plain": [
              "0.08159722222222222"
            ]
          },
          "metadata": {},
          "execution_count": 117
        }
      ]
    },
    {
      "cell_type": "code",
      "source": [
        "1/24"
      ],
      "metadata": {
        "colab": {
          "base_uri": "https://localhost:8080/"
        },
        "id": "d_xQX7UQ0h-G",
        "outputId": "442d9167-9021-40f4-91f3-c80c90037f1f"
      },
      "execution_count": null,
      "outputs": [
        {
          "output_type": "execute_result",
          "data": {
            "text/plain": [
              "0.041666666666666664"
            ]
          },
          "metadata": {},
          "execution_count": 118
        }
      ]
    },
    {
      "cell_type": "code",
      "source": [
        "tr1 = (1/2)*(sqrt(1058)+sqrt(1152))*sqrt(2)\n",
        "tr2 = (1/2)*(sqrt(1152)+sqrt(968))*sqrt(8)\n",
        "print(tr1, tr2)\n",
        "six = tr1+tr2"
      ],
      "metadata": {
        "colab": {
          "base_uri": "https://localhost:8080/"
        },
        "id": "NWx8uIJt89Ha",
        "outputId": "f81d351b-9798-4c18-b524-488575302470"
      },
      "execution_count": null,
      "outputs": [
        {
          "output_type": "stream",
          "name": "stdout",
          "text": [
            "47.0 92.0\n"
          ]
        }
      ]
    },
    {
      "cell_type": "code",
      "source": [
        "sq = 24**2\n",
        "print(six/sq)"
      ],
      "metadata": {
        "colab": {
          "base_uri": "https://localhost:8080/"
        },
        "id": "PsFfZGbe9J3f",
        "outputId": "89db67df-1cd4-4af6-df44-0065ffdeab44"
      },
      "execution_count": null,
      "outputs": [
        {
          "output_type": "stream",
          "name": "stdout",
          "text": [
            "0.24131944444444445\n"
          ]
        }
      ]
    },
    {
      "cell_type": "code",
      "source": [
        "import datetime\n",
        "import random\n",
        "sum = 0\n",
        "n = 100000\n",
        "for _ in tqdm(range(n)):\n",
        "  # Генерируем случайные часы и минуты для пароходов\n",
        "  hours1 = random.randint(0, 23)\n",
        "  minutes1 = random.randint(0, 59)\n",
        "  hours2 = random.randint(0, 23)\n",
        "  minutes2 = random.randint(0, 59)\n",
        "\n",
        "  # Создаем объекты времени для двух пароходов\n",
        "  time1 = datetime.time(hours1, minutes1)\n",
        "  time2 = datetime.time(hours2, minutes2)\n",
        "\n",
        "  # Получаем текущую дату\n",
        "  current_date = datetime.date.today()\n",
        "\n",
        "  # Создаем объекты полной даты для двух пароходов\n",
        "  datetime1 = datetime.datetime.combine(current_date, time1)\n",
        "  datetime2 = datetime.datetime.combine(current_date, time2)\n",
        "  #print(datetime1, datetime2,\"Разница во времени между двумя пароходами:\", h , \"ч\", (time_difference - (h*3600))//60, 'мин')\n",
        "\n",
        "  if datetime1 <= datetime2:\n",
        "    time_difference = (datetime2 - datetime1).total_seconds()\n",
        "    #print(time_difference)\n",
        "    if time_difference < 3600:\n",
        "      sum += 1\n",
        "\n",
        "\n",
        "\n",
        "  else:\n",
        "    time_difference = (datetime1 - datetime2).total_seconds()\n",
        "    #print(time_difference)\n",
        "    if time_difference < 7200:\n",
        "      sum += 1\n",
        "\n",
        "\n",
        "\n",
        "print('Вероятность, что одному из пароходов придётся ждать', sum/n)\n",
        "\n",
        "\n",
        "\n"
      ],
      "metadata": {
        "colab": {
          "base_uri": "https://localhost:8080/",
          "height": 66,
          "referenced_widgets": [
            "e27fb2bb7458433a8c900ce8241265b7",
            "ee8d0c6f1b624a8f87776947e2f18e6c",
            "222c1b4be10a44eebcfac9a8e8a9c89c",
            "2ca57d9c63f24bec8c5b9a94d416d534",
            "969efebec78749b195053315d6cd7254",
            "ba673b56b3404853b2ca7b9c27d395d8",
            "0a1a71c81f514323bac0a283225e4928",
            "ea349b01cf654f489e33c95f8c6842d7",
            "77ddb099c0d14f18a99c103c4cc355e1",
            "b9c970a0ed2146a79bad86679406dae1",
            "c74223ab097a451d879595ad3c7f0db5"
          ]
        },
        "id": "6IGjsV5QP4ob",
        "outputId": "2be05461-54d4-4620-a0e1-efed2904726e"
      },
      "execution_count": null,
      "outputs": [
        {
          "output_type": "display_data",
          "data": {
            "text/plain": [
              "  0%|          | 0/100000 [00:00<?, ?it/s]"
            ],
            "application/vnd.jupyter.widget-view+json": {
              "version_major": 2,
              "version_minor": 0,
              "model_id": "e27fb2bb7458433a8c900ce8241265b7"
            }
          },
          "metadata": {}
        },
        {
          "output_type": "stream",
          "name": "stdout",
          "text": [
            "Вероятность, что одному из пароходов придётся ждать 0.12152\n"
          ]
        }
      ]
    },
    {
      "cell_type": "markdown",
      "source": [],
      "metadata": {
        "id": "SF8gLS25xg7B"
      }
    }
  ]
}