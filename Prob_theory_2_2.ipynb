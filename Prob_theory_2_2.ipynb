{
  "nbformat": 4,
  "nbformat_minor": 0,
  "metadata": {
    "colab": {
      "provenance": [],
      "authorship_tag": "ABX9TyNCAxLHYcaAqwxSUh4IYgLF",
      "include_colab_link": true
    },
    "kernelspec": {
      "name": "python3",
      "display_name": "Python 3"
    },
    "language_info": {
      "name": "python"
    }
  },
  "cells": [
    {
      "cell_type": "markdown",
      "metadata": {
        "id": "view-in-github",
        "colab_type": "text"
      },
      "source": [
        "<a href=\"https://colab.research.google.com/github/VMVoron/ITMO/blob/main/Prob_theory_2_2.ipynb\" target=\"_parent\"><img src=\"https://colab.research.google.com/assets/colab-badge.svg\" alt=\"Open In Colab\"/></a>"
      ]
    },
    {
      "cell_type": "markdown",
      "source": [
        "Дано распределение плотности показательного распределения со смещением:"
      ],
      "metadata": {
        "id": "vWzxxJQF3H_6"
      }
    },
    {
      "cell_type": "markdown",
      "source": [
        "$$\n",
        "    f_{\\xi}^{\\lambda, a}(x) =\n",
        "    \\begin{cases}\n",
        "        \\lambda e^{-\\lambda(x-a)},&\\ x \\ge a, \\\\\n",
        "        0, &\\ else\n",
        "    \\end{cases}\n",
        "$$"
      ],
      "metadata": {
        "id": "XH62t-Sj3Jms"
      }
    },
    {
      "cell_type": "markdown",
      "source": [
        "1. Аналитически вычислите значение моды, матожидания и медианы\n",
        "случайной величины."
      ],
      "metadata": {
        "id": "JEox0fM13KIo"
      }
    },
    {
      "cell_type": "markdown",
      "source": [
        "Мода $Mo_{\\xi}x - $ то возможное значение x, при котором $f_{\\xi}(x) = max$"
      ],
      "metadata": {
        "id": "kCekrVoN3v9o"
      }
    },
    {
      "cell_type": "markdown",
      "source": [
        "Найдем производную"
      ],
      "metadata": {
        "id": "FPLEZGWS4TTT"
      }
    },
    {
      "cell_type": "markdown",
      "source": [
        "$$\n",
        "{f'}(x) = (\\lambda e^{-\\lambda(x-a)})' = -\\lambda^2 e^{-\\lambda(x-a)}\n",
        "$$"
      ],
      "metadata": {
        "id": "o8NXjnmJ4UsY"
      }
    },
    {
      "cell_type": "markdown",
      "source": [
        "$$-\\lambda^2 e^{-\\lambda(x-a)} = 0$$"
      ],
      "metadata": {
        "id": "mB3x_f-N5YVM"
      }
    },
    {
      "cell_type": "markdown",
      "source": [
        "решений нет. Моды нет или она равна 0?"
      ],
      "metadata": {
        "id": "JyzpTqnY5YzC"
      }
    },
    {
      "cell_type": "markdown",
      "source": [
        "Матожидание"
      ],
      "metadata": {
        "id": "-vCCVkUM5pIg"
      }
    },
    {
      "cell_type": "markdown",
      "source": [
        "$$ M_{\\xi}(x) = \\int_{-∞}^{∞}xf(x)dx $$"
      ],
      "metadata": {
        "id": "PhIl3aHe5shF"
      }
    },
    {
      "cell_type": "markdown",
      "source": [
        "$$ M_{\\xi}(x) = \\int_{-∞}^{∞}x\\lambda e^{-\\lambda(x-a)}dx=\\lambda\\int_{-∞}^{∞}x e^{-\\lambda(x-a)}dx  =| u=x; du = dx; dv = e^{- \\lambda (x-a)}| = x (-\\lambda) e^{- \\lambda (x-a)} + \\int_{-∞}^{∞} \\lambda e^{-\\lambda}(x-a)dx = - \\lambda x e^{- \\lambda(x-a)} - \\lambda^2 e^{-\\lambda(x-a)} \\Bigg|_{-∞}^{+∞} = e^{-x(x-a)}(- \\lambda x - \\lambda^2) \\Bigg|_{-∞}^{+∞}   $$"
      ],
      "metadata": {
        "id": "gluI6Kh75tAG"
      }
    },
    {
      "cell_type": "markdown",
      "source": [
        "Пусть $ \\lambda = 0.5 $, $a = 2$"
      ],
      "metadata": {
        "id": "OScHjNvf8WE5"
      }
    },
    {
      "cell_type": "markdown",
      "source": [],
      "metadata": {
        "id": "O3U0xPZb8eCV"
      }
    },
    {
      "cell_type": "code",
      "source": [
        "import numpy as np"
      ],
      "metadata": {
        "id": "sSbDCH8o8kT1"
      },
      "execution_count": null,
      "outputs": []
    },
    {
      "cell_type": "code",
      "source": [
        "import math"
      ],
      "metadata": {
        "id": "czFpfnqm8s5d"
      },
      "execution_count": null,
      "outputs": []
    },
    {
      "cell_type": "code",
      "source": [
        "l = 0.5\n",
        "a = 2"
      ],
      "metadata": {
        "id": "D46LziWM-Z2w"
      },
      "execution_count": null,
      "outputs": []
    },
    {
      "cell_type": "code",
      "source": [
        "def m(l, a):\n",
        "  m = -(- a - l)\n",
        "  return m"
      ],
      "metadata": {
        "id": "P76rSsTc8hRF"
      },
      "execution_count": null,
      "outputs": []
    },
    {
      "cell_type": "code",
      "source": [
        "m(l,a)"
      ],
      "metadata": {
        "colab": {
          "base_uri": "https://localhost:8080/"
        },
        "id": "a8lnxo_N-ewb",
        "outputId": "124fd6d6-aa7a-4b14-811b-e43cd4da0828"
      },
      "execution_count": null,
      "outputs": [
        {
          "output_type": "execute_result",
          "data": {
            "text/plain": [
              "2.5"
            ]
          },
          "metadata": {},
          "execution_count": 9
        }
      ]
    },
    {
      "cell_type": "markdown",
      "source": [
        "Мода"
      ],
      "metadata": {
        "id": "bkjHcMeF-qbB"
      }
    },
    {
      "cell_type": "markdown",
      "source": [
        "Поскольку больше и меньше медианы располагаются равное количество значений случайной величины, для нахождения значения медианы надо от функции плотности перейти к функции распределения, приравнять данную функцию к нулю и найти соответствующее значение переменной."
      ],
      "metadata": {
        "id": "UM8sbyYf-zIW"
      }
    },
    {
      "cell_type": "markdown",
      "source": [],
      "metadata": {
        "id": "DynEFQTk_n2W"
      }
    },
    {
      "cell_type": "markdown",
      "source": [
        "$$\n",
        "    F(x) = \\int\\limits_{-\\infty}^{+\\infty} f(x)dx\n",
        "$$"
      ],
      "metadata": {
        "id": "9eFQoQhq_Or-"
      }
    },
    {
      "cell_type": "markdown",
      "source": [
        "$$\n",
        "   \\int\\limits_{a}^{z} f(x)dx=\\int\\limits_{a}^{z} \\lambda e^{-\\lambda(x-a)}dx = \\lambda e^{\\lambda a}\\int\\limits_{a}^{z} e^{-\\lambda x}dx = \\frac{-\\lambda}{\\lambda}e^{\\lambda a}e^{-\\lambda x} \\Bigg|_{a}^{z}= -e^{\\lambda (a-x)} \\Bigg|_{a}^{z} = -e^{\\lambda(a-z)} + e^{\\lambda(a+a)}\n",
        "$$"
      ],
      "metadata": {
        "id": "qgFV16wvJkvU"
      }
    },
    {
      "cell_type": "markdown",
      "source": [
        "$$ -e^{\\lambda(a-z)} + e^{\\lambda(a+a)} = 0 $$\n",
        "$$ e^{\\lambda(a-z)} = e^{\\lambda(a+a)} $$\n",
        "$$ \\lambda(a-z) = \\lambda(a+a) $$\n",
        "$$ a-z = a+ a$$\n",
        "$$a = z $$"
      ],
      "metadata": {
        "id": "GaNFtCL4L2Xd"
      }
    },
    {
      "cell_type": "markdown",
      "source": [
        "Мода = 2"
      ],
      "metadata": {
        "id": "MRLzOgtDNlz0"
      }
    },
    {
      "cell_type": "markdown",
      "source": [
        "Медиана"
      ],
      "metadata": {
        "id": "L0mJL9q2O5Jr"
      }
    },
    {
      "cell_type": "markdown",
      "source": [
        "$F_{\\xi}x = \\int\\limits_{a}^{x} e^{t-a}dt = \\frac{1}{2} $"
      ],
      "metadata": {
        "id": "DLyNOxsNb-jr"
      }
    },
    {
      "cell_type": "code",
      "source": [
        "import sympy as smp\n",
        "\n",
        "x, lambda_val, a = smp.symbols('x lambda a')\n",
        "cdf_expr = smp.integrate(lambda_val*smp.exp(-lambda_val*(x-a)), (x,a,x))\n",
        "cdf_expr"
      ],
      "metadata": {
        "colab": {
          "base_uri": "https://localhost:8080/",
          "height": 39
        },
        "id": "qc1rOb-IcXni",
        "outputId": "260cb896-d82a-445f-f825-57d0a15a66cb"
      },
      "execution_count": null,
      "outputs": [
        {
          "output_type": "execute_result",
          "data": {
            "text/plain": [
              "1 - exp(-lambda*(-a + x))"
            ],
            "text/latex": "$\\displaystyle 1 - e^{- \\lambda \\left(- a + x\\right)}$"
          },
          "metadata": {},
          "execution_count": 72
        }
      ]
    },
    {
      "cell_type": "code",
      "source": [
        "import sympy as smp\n",
        "\n",
        "x = smp.symbols('x')\n",
        "\n",
        "lambda_val = 0.5\n",
        "a = 2\n",
        "\n",
        "pdf = lambda_val * smp.exp(-lambda_val * (x - a))\n",
        "\n",
        "cdf = smp.integrate(pdf, (x, a, x))\n",
        "\n",
        "# Solve for x when CDF(x) = 0.5 to find the median\n",
        "analytical_median = smp.solve(cdf - 0.5, x)\n",
        "analytical_median"
      ],
      "metadata": {
        "colab": {
          "base_uri": "https://localhost:8080/"
        },
        "id": "f6LBXtwTbk1N",
        "outputId": "ea78dea8-dd5b-4170-f90d-7e4f18d30663"
      },
      "execution_count": null,
      "outputs": [
        {
          "output_type": "execute_result",
          "data": {
            "text/plain": [
              "[3.38629436111989]"
            ]
          },
          "metadata": {},
          "execution_count": 71
        }
      ]
    },
    {
      "cell_type": "code",
      "source": [
        "import numpy as np\n",
        "import matplotlib.pyplot as plt\n",
        "from scipy.stats import mode\n",
        "\n",
        "num_samples = 10000\n",
        "lambda_val = 0.5\n",
        "a = 2\n",
        "\n",
        "def pdf_function(x, lambda_val, a):\n",
        "    return lambda_val * np.exp(-lambda_val * (x - a)) * (x >= a)\n",
        "\n",
        "def inverse_cdf_analytic(u, lam, a):\n",
        "    return (np.log((-np.exp(a*lam)/(u-1)))/lam)\n",
        "\n",
        "def manual_median(data):\n",
        "    data.sort()\n",
        "    data_len = len(data)\n",
        "\n",
        "    if data_len % 2 == 1:\n",
        "        median = data[data_len // 2]\n",
        "    else:\n",
        "        median = (data[data_len // 2] + data[data_len // 2 + 1]) / 2\n",
        "\n",
        "    return median\n",
        "\n",
        "\n",
        "x_values = np.linspace(0, 10, 1000)\n",
        "\n",
        "plt.plot(x_values, pdf_function(x_values, lambda_val, a), label='PDF', color='b')\n",
        "\n",
        "uniform_sample = np.random.rand(num_samples)\n",
        "\n",
        "inverse_sample = [inverse_cdf_analytic(u, lambda_val, a) for u in uniform_sample]\n",
        "\n",
        "inverse_sample_mean = sum(inverse_sample) / len(inverse_sample)\n",
        "inverse_sample_median  = manual_median(inverse_sample)\n",
        "inverse_sample_mode = mode(inverse_sample, keepdims=False)[0]\n",
        "\n",
        "plt.axvline(inverse_sample_mean, linestyle='--', color='r', label=f'Mean: {inverse_sample_mean : .2f}')\n",
        "plt.axvline(inverse_sample_median, linestyle='--', color='g', label = f'Median: {inverse_sample_median : .2f}')\n",
        "plt.axvline(inverse_sample_mode, linestyle='--', color='y', label = f'Mode: {inverse_sample_mode : .2f}')\n",
        "plt.legend()\n",
        "\n",
        "plt.hist(inverse_sample, bins=20, density=True, alpha=0.5)\n",
        "\n",
        "plt.show()"
      ],
      "metadata": {
        "colab": {
          "base_uri": "https://localhost:8080/",
          "height": 430
        },
        "id": "3vgVJ_rjbYlL",
        "outputId": "e5fb2c21-cf08-4bcd-b31d-dbb774349e7f"
      },
      "execution_count": null,
      "outputs": [
        {
          "output_type": "display_data",
          "data": {
            "text/plain": [
              "<Figure size 640x480 with 1 Axes>"
            ],
            "image/png": "[encoded data removed]"
          },
          "metadata": {}
        }
      ]
    },
    {
      "cell_type": "markdown",
      "source": [],
      "metadata": {
        "id": "qUSswBlkJlKD"
      }
    },
    {
      "cell_type": "code",
      "source": [
        "l = 1/2\n",
        "a = 2"
      ],
      "metadata": {
        "id": "gkCzS9OUEZam"
      },
      "execution_count": null,
      "outputs": []
    },
    {
      "cell_type": "markdown",
      "source": [
        "задание"
      ],
      "metadata": {
        "id": "k7o7Qo8vcv-r"
      }
    },
    {
      "cell_type": "markdown",
      "source": [
        "![image.png](data:image/png;base64,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)"
      ],
      "metadata": {
        "id": "YDzFmdwzq705"
      }
    },
    {
      "cell_type": "markdown",
      "source": [],
      "metadata": {
        "id": "4HQx12vbY9Uh"
      }
    },
    {
      "cell_type": "markdown",
      "source": [
        "Корреляционная матрица представляет собой отнормированную ковариационную матрицу."
      ],
      "metadata": {
        "id": "I7L0pNb_YBtI"
      }
    },
    {
      "cell_type": "markdown",
      "source": [
        "$$\n",
        "    Corr({\\xi, \\eta}) = \\frac{Cov({\\xi, \\eta})}{\\sqrt{Var(\\xi)} \\cdot \\sqrt{ Var(\\eta)}}\n",
        "$$"
      ],
      "metadata": {
        "id": "Yk_a2nLyY-1P"
      }
    },
    {
      "cell_type": "markdown",
      "source": [
        "$$\n",
        "    Cov(\\xi, \\eta) = M({\\xi \\eta}) - M({\\xi}) \\cdot M({\\eta})\n",
        "$$"
      ],
      "metadata": {
        "id": "34IiS1gCYDrC"
      }
    },
    {
      "cell_type": "markdown",
      "source": [
        "Ковариационная матрица"
      ],
      "metadata": {
        "id": "js7v4L8vZjpa"
      }
    },
    {
      "cell_type": "markdown",
      "source": [
        "$$\n",
        "\\begin{array}{|c|c|c|c|}\n",
        "\\hline\n",
        "Cov({\\xi, \\xi}) & Cov({\\xi, \\eta}) \\\\\n",
        "\\hline\n",
        "Cov({\\xi, \\eta}) & Cov({\\eta, \\eta})   \\\\\n",
        "\\hline\n",
        "\\end{array}\n",
        "$$"
      ],
      "metadata": {
        "id": "DGv_0xYWZiyQ"
      }
    },
    {
      "cell_type": "markdown",
      "source": [
        "$$\n",
        "     M({\\xi \\eta}) = -1 \\cdot \\frac{2}{5} \\cdot \\frac{1}{2^\\eta} + 0 \\cdot \\frac{1}{5} \\cdot \\frac{1}{2^\\eta} + 1 \\cdot \\frac{2}{5} \\cdot \\frac{1}{2^\\eta} = 0\n",
        "$$"
      ],
      "metadata": {
        "id": "IG1iGQqaYixC"
      }
    },
    {
      "cell_type": "markdown",
      "source": [
        "$$\n",
        "    M({\\xi}) = -1 \\cdot \\frac{2}{5}  + 0 \\cdot \\frac{1}{5}  + 1 \\cdot \\frac{2}{5}  = 0\n",
        "$$"
      ],
      "metadata": {
        "id": "5pGhUXuKZI5A"
      }
    },
    {
      "cell_type": "markdown",
      "source": [
        "$$M({{\\xi}^2})=1 \\cdot \\frac{2}{5}  + 0 \\cdot \\frac{1}{5}  + 1 \\cdot \\frac{2}{5}  = \\frac{4}{5}\n",
        "$$"
      ],
      "metadata": {
        "id": "1bfJqTNhZgIP"
      }
    },
    {
      "cell_type": "markdown",
      "source": [
        "$$\n",
        "M({\\eta}) = \\sum_{\\eta=1}^N \\eta \\cdot P{\\eta} = \\sum_{\\eta=1}^N \\eta \\cdot \\frac{1}{2^\\eta}\n",
        "$$"
      ],
      "metadata": {
        "id": "f7XoBPDyZPvO"
      }
    },
    {
      "cell_type": "markdown",
      "source": [
        "$$\n",
        "M({\\eta}^2) = \\sum_{\\eta=1}^N \\eta^2 \\cdot P{\\eta} = \\sum_{\\eta=1}^N \\eta^2 \\cdot \\frac{1}{2^\\eta}\n",
        "$$"
      ],
      "metadata": {
        "id": "ZLUr7aXjZq8o"
      }
    },
    {
      "cell_type": "markdown",
      "source": [
        "$$\n",
        "\\begin{array}{|c|c|c|c|}\n",
        "\\hline\n",
        "\\frac{4}{5} & 0 \\\\\n",
        "\\hline\n",
        "0 & \\sum_{\\eta=1}^N \\eta^2 \\cdot \\frac{1}{2^\\eta} -(\\sum_{\\eta=1}^N \\eta \\cdot \\frac{1}{2^\\eta})^2   \\\\\n",
        "\\hline\n",
        "\\end{array}\n",
        "$$"
      ],
      "metadata": {
        "id": "557K1MatZnzD"
      }
    },
    {
      "cell_type": "markdown",
      "source": [
        "$$ Var_{\\xi} = 4/5 $$"
      ],
      "metadata": {
        "id": "zeEbP-IYbAIc"
      }
    },
    {
      "cell_type": "markdown",
      "source": [],
      "metadata": {
        "id": "2Nvu8YmbbEVt"
      }
    },
    {
      "cell_type": "code",
      "source": [
        "experiments = 100000"
      ],
      "metadata": {
        "id": "lIqzSVeLaY-y"
      },
      "execution_count": null,
      "outputs": []
    },
    {
      "cell_type": "code",
      "source": [
        "eta = np.arange(1, 50)\n",
        "probabilities_eta = 1 / 2 ** eta\n",
        "eta_array = np.random.choice(eta, size=experiments, p=probabilities_eta)"
      ],
      "metadata": {
        "id": "RNyPVPcTaakJ"
      },
      "execution_count": null,
      "outputs": []
    },
    {
      "cell_type": "code",
      "source": [
        "xi = np.array([-1, 0, 1])\n",
        "probabilities_xi = np.array([2/5, 1/5, 2/5])\n",
        "xi_array = np.random.choice(xi, size=experiments, p=probabilities_xi)"
      ],
      "metadata": {
        "id": "dpXoAFgfacNX"
      },
      "execution_count": null,
      "outputs": []
    },
    {
      "cell_type": "code",
      "source": [
        "np.corrcoef(eta_array, xi_array)"
      ],
      "metadata": {
        "colab": {
          "base_uri": "https://localhost:8080/"
        },
        "id": "KhTLh9sEadm4",
        "outputId": "340ea19a-1499-4f06-ae04-f64d9aba8814"
      },
      "execution_count": null,
      "outputs": [
        {
          "output_type": "execute_result",
          "data": {
            "text/plain": [
              "array([[1.        , 0.00227354],\n",
              "       [0.00227354, 1.        ]])"
            ]
          },
          "metadata": {},
          "execution_count": 68
        }
      ]
    }
  ]
}